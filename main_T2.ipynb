{
 "cells": [
  {
   "cell_type": "markdown",
   "id": "9467ebae",
   "metadata": {
    "id": "9467ebae"
   },
   "source": [
    "# Importing Libraries"
   ]
  },
  {
   "cell_type": "code",
   "execution_count": 4,
   "id": "948fdee2",
   "metadata": {},
   "outputs": [],
   "source": [
    "import tensorflow as tf"
   ]
  },
  {
   "cell_type": "code",
   "execution_count": 5,
   "id": "61b5e196",
   "metadata": {},
   "outputs": [
    {
     "name": "stdout",
     "output_type": "stream",
     "text": [
      "[PhysicalDevice(name='/physical_device:GPU:0', device_type='GPU')]\n"
     ]
    }
   ],
   "source": [
    "print(tf.config.list_physical_devices('GPU'))"
   ]
  },
  {
   "cell_type": "code",
   "execution_count": 9,
   "id": "37024b3c",
   "metadata": {},
   "outputs": [
    {
     "data": {
      "text/plain": [
       "[PhysicalDevice(name='/physical_device:GPU:0', device_type='GPU')]"
      ]
     },
     "execution_count": 9,
     "metadata": {},
     "output_type": "execute_result"
    }
   ],
   "source": [
    "tf.config.experimental.list_physical_devices('GPU')"
   ]
  },
  {
   "cell_type": "code",
   "execution_count": 7,
   "id": "a8891c69",
   "metadata": {},
   "outputs": [],
   "source": [
    "tf.debugging.set_log_device_placement(True)"
   ]
  },
  {
   "cell_type": "code",
   "execution_count": 8,
   "id": "18369060",
   "metadata": {},
   "outputs": [
    {
     "name": "stdout",
     "output_type": "stream",
     "text": [
      "Executing op _EagerConst in device /job:localhost/replica:0/task:0/device:GPU:0\n",
      "Executing op _EagerConst in device /job:localhost/replica:0/task:0/device:GPU:0\n",
      "Executing op MatMul in device /job:localhost/replica:0/task:0/device:GPU:0\n",
      "tf.Tensor(\n",
      "[[22. 28.]\n",
      " [49. 64.]], shape=(2, 2), dtype=float32)\n"
     ]
    }
   ],
   "source": [
    "# Enable device placement logging\n",
    "tf.debugging.set_log_device_placement(True)\n",
    "\n",
    "# Create a simple TensorFlow operation\n",
    "a = tf.constant([[1.0, 2.0, 3.0], [4.0, 5.0, 6.0]])\n",
    "b = tf.constant([[1.0, 2.0], [3.0, 4.0], [5.0, 6.0]])\n",
    "c = tf.matmul(a, b)\n",
    "\n",
    "print(c)"
   ]
  },
  {
   "cell_type": "code",
   "execution_count": null,
   "id": "4d2670ce",
   "metadata": {},
   "outputs": [],
   "source": []
  },
  {
   "cell_type": "code",
   "execution_count": null,
   "id": "c7414ea8",
   "metadata": {},
   "outputs": [],
   "source": []
  },
  {
   "cell_type": "code",
   "execution_count": null,
   "id": "93b27545",
   "metadata": {},
   "outputs": [],
   "source": []
  },
  {
   "cell_type": "code",
   "execution_count": null,
   "id": "ac04902f",
   "metadata": {},
   "outputs": [],
   "source": []
  },
  {
   "cell_type": "code",
   "execution_count": null,
   "id": "28d5831a",
   "metadata": {},
   "outputs": [],
   "source": []
  },
  {
   "cell_type": "code",
   "execution_count": null,
   "id": "cabf9efc",
   "metadata": {},
   "outputs": [],
   "source": []
  },
  {
   "cell_type": "code",
   "execution_count": null,
   "id": "f8de8e91",
   "metadata": {},
   "outputs": [],
   "source": []
  },
  {
   "cell_type": "code",
   "execution_count": 1,
   "id": "f0488a2f",
   "metadata": {
    "executionInfo": {
     "elapsed": 453,
     "status": "ok",
     "timestamp": 1672678042433,
     "user": {
      "displayName": "Touseef Ur Rehman",
      "userId": "07158742900075865006"
     },
     "user_tz": -300
    },
    "id": "f0488a2f"
   },
   "outputs": [
    {
     "ename": "ModuleNotFoundError",
     "evalue": "No module named 'pandas'",
     "output_type": "error",
     "traceback": [
      "\u001b[1;31m---------------------------------------------------------------------------\u001b[0m",
      "\u001b[1;31mModuleNotFoundError\u001b[0m                       Traceback (most recent call last)",
      "Cell \u001b[1;32mIn[1], line 2\u001b[0m\n\u001b[0;32m      1\u001b[0m \u001b[38;5;28;01mimport\u001b[39;00m \u001b[38;5;21;01mnumpy\u001b[39;00m \u001b[38;5;28;01mas\u001b[39;00m \u001b[38;5;21;01mnp\u001b[39;00m\n\u001b[1;32m----> 2\u001b[0m \u001b[38;5;28;01mimport\u001b[39;00m \u001b[38;5;21;01mpandas\u001b[39;00m \u001b[38;5;28;01mas\u001b[39;00m \u001b[38;5;21;01mpd\u001b[39;00m\n\u001b[0;32m      3\u001b[0m \u001b[38;5;28;01mimport\u001b[39;00m \u001b[38;5;21;01mcv2\u001b[39;00m\n\u001b[0;32m      4\u001b[0m \u001b[38;5;28;01mimport\u001b[39;00m \u001b[38;5;21;01mos\u001b[39;00m\n",
      "\u001b[1;31mModuleNotFoundError\u001b[0m: No module named 'pandas'"
     ]
    }
   ],
   "source": [
    "import numpy as np\n",
    "import pandas as pd\n",
    "import cv2\n",
    "import os\n",
    "# from patchify import patchify\n",
    "from PIL import Image\n",
    "from matplotlib import pyplot as plt\n",
    "import tifffile\n",
    "import pickle as pkl\n",
    "import tensorflow as tf\n",
    "from tensorflow.keras.layers import Conv2D\n",
    "from tensorflow.keras import layers\n",
    "from sklearn.model_selection import train_test_split\n",
    "from keras.models import Model\n",
    "from keras.models import load_model\n",
    "from tensorflow import keras"
   ]
  },
  {
   "cell_type": "markdown",
   "id": "3e9182bc",
   "metadata": {
    "id": "3e9182bc"
   },
   "source": [
    "# Stacking and saving Images"
   ]
  },
  {
   "cell_type": "code",
   "execution_count": 2,
   "id": "c368d7dc",
   "metadata": {
    "executionInfo": {
     "elapsed": 3,
     "status": "ok",
     "timestamp": 1672678044668,
     "user": {
      "displayName": "Touseef Ur Rehman",
      "userId": "07158742900075865006"
     },
     "user_tz": -300
    },
    "id": "c368d7dc"
   },
   "outputs": [],
   "source": [
    "# DIRECTORY = (r\"C:\\Users\\tause\\Advance_ANN\\data\")\n",
    "\n",
    "# CATEGORIES = []\n",
    "# for classes in os.listdir(DIRECTORY):\n",
    "#     CATEGORIES += [classes]\n",
    "\n",
    "# data = np.zeros((512,512,31))\n",
    "# i=0\n",
    "# for category in CATEGORIES:\n",
    "#     path = os.path.join(DIRECTORY, category)\n",
    "#     path = path + '\\\\' + CATEGORIES[i]\n",
    "# #     print(path)\n",
    "#     j=0\n",
    "#     for img in os.listdir(path):\n",
    "#         if(img==(\"Thumbs.db\") or img==((CATEGORIES[i][:-2])+\"RGB.bmp\")):\n",
    "#             continue\n",
    "#         img_path = os.path.join(path, img)\n",
    "#         arr = cv2.imread(img_path,0)\n",
    "#         data[:,:,j] = arr\n",
    "#         j+=1\n",
    "# #     images = [Image.fromarray(data[:, :, i].astype('uint8')) for i in range(data.shape[2])]\n",
    "# #     images[0].save((r\"C:\\Users\\tause\\Advance_ANN\\Stacked\\\\\")+(CATEGORIES[i][:-2]+\"stacked.tiff\"), format='TIFF', save_all=True, append_images=images[1:])\n",
    "#     i+=1\n"
   ]
  },
  {
   "cell_type": "code",
   "execution_count": 3,
   "id": "29f5eb10",
   "metadata": {
    "executionInfo": {
     "elapsed": 6,
     "status": "ok",
     "timestamp": 1672678045302,
     "user": {
      "displayName": "Touseef Ur Rehman",
      "userId": "07158742900075865006"
     },
     "user_tz": -300
    },
    "id": "29f5eb10"
   },
   "outputs": [],
   "source": [
    "# data.shape"
   ]
  },
  {
   "cell_type": "code",
   "execution_count": 4,
   "id": "0dd79cd2",
   "metadata": {
    "executionInfo": {
     "elapsed": 6,
     "status": "ok",
     "timestamp": 1672678045303,
     "user": {
      "displayName": "Touseef Ur Rehman",
      "userId": "07158742900075865006"
     },
     "user_tz": -300
    },
    "id": "0dd79cd2"
   },
   "outputs": [],
   "source": [
    "# plt.imshow(data[:,:,3],cmap='gray')"
   ]
  },
  {
   "cell_type": "markdown",
   "id": "faf1895e",
   "metadata": {
    "id": "faf1895e"
   },
   "source": [
    "# Reading Stacked Images"
   ]
  },
  {
   "cell_type": "code",
   "execution_count": 9,
   "id": "fdf2f300",
   "metadata": {
    "executionInfo": {
     "elapsed": 32856,
     "status": "ok",
     "timestamp": 1672678143999,
     "user": {
      "displayName": "Touseef Ur Rehman",
      "userId": "07158742900075865006"
     },
     "user_tz": -300
    },
    "id": "fdf2f300"
   },
   "outputs": [],
   "source": [
    "DIRECTORY = (r\"C:\\Users\\tause\\Advance_ANN\\Stacked\")\n",
    "\n",
    "\n",
    "CATEGORIES = []\n",
    "for classes in os.listdir(DIRECTORY):\n",
    "    CATEGORIES += [classes]\n",
    "\n",
    "# print(CATEGORIES)\n",
    "\n",
    "data = []\n",
    "i=0\n",
    "for category in CATEGORIES:\n",
    "    img_path = os.path.join(DIRECTORY, category)\n",
    "    arr = cv2.imread(img_path,0)\n",
    "    data.append(arr)\n",
    "\n",
    "stacked = np.array(data)"
   ]
  },
  {
   "cell_type": "code",
   "execution_count": 10,
   "id": "34d852d4",
   "metadata": {
    "colab": {
     "base_uri": "https://localhost:8080/"
    },
    "executionInfo": {
     "elapsed": 10,
     "status": "ok",
     "timestamp": 1672678160795,
     "user": {
      "displayName": "Touseef Ur Rehman",
      "userId": "07158742900075865006"
     },
     "user_tz": -300
    },
    "id": "34d852d4",
    "outputId": "da9718d1-2103-4420-e111-cd4a544aa191"
   },
   "outputs": [
    {
     "data": {
      "text/plain": [
       "(512, 512, 32)"
      ]
     },
     "execution_count": 10,
     "metadata": {},
     "output_type": "execute_result"
    }
   ],
   "source": [
    "stacked = np.transpose(stacked, (1, 2, 0))\n",
    "stacked.shape"
   ]
  },
  {
   "cell_type": "markdown",
   "id": "4138ce83",
   "metadata": {
    "id": "4138ce83"
   },
   "source": [
    "# Making Patches"
   ]
  },
  {
   "cell_type": "code",
   "execution_count": 11,
   "id": "b0e412ab",
   "metadata": {
    "executionInfo": {
     "elapsed": 1720,
     "status": "ok",
     "timestamp": 1672678172049,
     "user": {
      "displayName": "Touseef Ur Rehman",
      "userId": "07158742900075865006"
     },
     "user_tz": -300
    },
    "id": "b0e412ab",
    "scrolled": true
   },
   "outputs": [],
   "source": [
    "def extract_blocks(image, block_size, stride):\n",
    "    blocks = []\n",
    "    image_height, image_width = image.shape[:2]\n",
    "    num_blocks_x = image_width // stride\n",
    "    num_blocks_y = image_height // stride\n",
    "    for y in range(0,image_height-block_size[1]+1,stride):\n",
    "        for x in range(0,image_width-block_size[0]+1,stride):\n",
    "            block=image[y:y+block_size[1],x:x+block_size[0]]\n",
    "            blocks.append(block)\n",
    "    return blocks"
   ]
  },
  {
   "cell_type": "code",
   "execution_count": 12,
   "id": "q8yk7ZQsFV0C",
   "metadata": {
    "executionInfo": {
     "elapsed": 4,
     "status": "ok",
     "timestamp": 1672678172876,
     "user": {
      "displayName": "Touseef Ur Rehman",
      "userId": "07158742900075865006"
     },
     "user_tz": -300
    },
    "id": "q8yk7ZQsFV0C"
   },
   "outputs": [],
   "source": [
    "def reconstruct_image(patches, image_size, block_size, stride):\n",
    "    # Get patch size\n",
    "    patch_size = block_size[0]\n",
    "\n",
    "    # Calculate the number of patches in each direction\n",
    "    n_patches_x = (image_size[1] - patch_size) // stride + 1\n",
    "    n_patches_y = (image_size[0] - patch_size) // stride + 1\n",
    "\n",
    "    # Initialize reconstructed image\n",
    "    reconstructed_image = np.zeros(image_size)\n",
    "\n",
    "    # Place patches in the reconstructed image\n",
    "    patch_idx = 0\n",
    "    for y in range(n_patches_y):\n",
    "        for x in range(n_patches_x):\n",
    "            patch = patches[patch_idx]\n",
    "            reconstructed_image[y*stride:y*stride+patch_size, x*stride:x*stride+patch_size] = patch\n",
    "            patch_idx += 1\n",
    "\n",
    "    return reconstructed_image"
   ]
  },
  {
   "cell_type": "code",
   "execution_count": 13,
   "id": "6c9ebda8",
   "metadata": {
    "colab": {
     "base_uri": "https://localhost:8080/"
    },
    "executionInfo": {
     "elapsed": 7,
     "status": "ok",
     "timestamp": 1672678175208,
     "user": {
      "displayName": "Touseef Ur Rehman",
      "userId": "07158742900075865006"
     },
     "user_tz": -300
    },
    "id": "6c9ebda8",
    "outputId": "14dee7cf-08e5-4903-b216-2d049bc82c17"
   },
   "outputs": [
    {
     "data": {
      "text/plain": [
       "361"
      ]
     },
     "execution_count": 13,
     "metadata": {},
     "output_type": "execute_result"
    }
   ],
   "source": [
    "patches = np.array(extract_blocks(stacked,(64,64),24))\n",
    "len(patches)"
   ]
  },
  {
   "cell_type": "code",
   "execution_count": 14,
   "id": "cFT2CUhJHSKD",
   "metadata": {
    "executionInfo": {
     "elapsed": 3,
     "status": "ok",
     "timestamp": 1672678177125,
     "user": {
      "displayName": "Touseef Ur Rehman",
      "userId": "07158742900075865006"
     },
     "user_tz": -300
    },
    "id": "cFT2CUhJHSKD"
   },
   "outputs": [],
   "source": [
    "# plt.imshow(stacked[:,:,2],cmap=\"gray\")\n"
   ]
  },
  {
   "cell_type": "code",
   "execution_count": 15,
   "id": "EERn28-Rkua7",
   "metadata": {
    "executionInfo": {
     "elapsed": 4,
     "status": "ok",
     "timestamp": 1672678177640,
     "user": {
      "displayName": "Touseef Ur Rehman",
      "userId": "07158742900075865006"
     },
     "user_tz": -300
    },
    "id": "EERn28-Rkua7"
   },
   "outputs": [],
   "source": [
    "# for i in range(361):\n",
    "#     plt.subplot(19,19,i+1)\n",
    "#     fig = plt.imshow(patches[i,:,:,2],cmap='gray')\n",
    "#     fig.axes.get_xaxis().set_visible(False)\n",
    "#     fig.axes.get_yaxis().set_visible(False)"
   ]
  },
  {
   "cell_type": "code",
   "execution_count": 16,
   "id": "jlNpnnFYFZX1",
   "metadata": {
    "executionInfo": {
     "elapsed": 4,
     "status": "ok",
     "timestamp": 1672678178061,
     "user": {
      "displayName": "Touseef Ur Rehman",
      "userId": "07158742900075865006"
     },
     "user_tz": -300
    },
    "id": "jlNpnnFYFZX1"
   },
   "outputs": [],
   "source": [
    "orignal_image = reconstruct_image(patches = patches, image_size= stacked.shape, block_size = (64, 64),stride = 24)"
   ]
  },
  {
   "cell_type": "code",
   "execution_count": 17,
   "id": "umXrl682Fz7f",
   "metadata": {
    "colab": {
     "base_uri": "https://localhost:8080/"
    },
    "executionInfo": {
     "elapsed": 15,
     "status": "ok",
     "timestamp": 1672678180444,
     "user": {
      "displayName": "Touseef Ur Rehman",
      "userId": "07158742900075865006"
     },
     "user_tz": -300
    },
    "id": "umXrl682Fz7f",
    "outputId": "a15cfffc-e93f-49f6-bd6e-4ad9fb0c1f48"
   },
   "outputs": [
    {
     "data": {
      "text/plain": [
       "(512, 512, 32)"
      ]
     },
     "execution_count": 17,
     "metadata": {},
     "output_type": "execute_result"
    }
   ],
   "source": [
    "orignal_image.shape"
   ]
  },
  {
   "cell_type": "code",
   "execution_count": 18,
   "id": "qtOC5bbcF5KR",
   "metadata": {
    "executionInfo": {
     "elapsed": 6,
     "status": "ok",
     "timestamp": 1672678184404,
     "user": {
      "displayName": "Touseef Ur Rehman",
      "userId": "07158742900075865006"
     },
     "user_tz": -300
    },
    "id": "qtOC5bbcF5KR"
   },
   "outputs": [],
   "source": [
    "# plt.imshow(orignal_image[:,:,2],cmap=\"gray\")"
   ]
  },
  {
   "cell_type": "markdown",
   "id": "aa69dfed",
   "metadata": {
    "id": "aa69dfed"
   },
   "source": [
    "# Labels"
   ]
  },
  {
   "cell_type": "code",
   "execution_count": 19,
   "id": "2aea7a0d",
   "metadata": {
    "colab": {
     "base_uri": "https://localhost:8080/"
    },
    "executionInfo": {
     "elapsed": 6,
     "status": "ok",
     "timestamp": 1672678184405,
     "user": {
      "displayName": "Touseef Ur Rehman",
      "userId": "07158742900075865006"
     },
     "user_tz": -300
    },
    "id": "2aea7a0d",
    "outputId": "023b6422-30fa-4676-ca48-f579279a5050"
   },
   "outputs": [
    {
     "data": {
      "text/plain": [
       "(361, 64, 64, 32)"
      ]
     },
     "execution_count": 19,
     "metadata": {},
     "output_type": "execute_result"
    }
   ],
   "source": [
    "y = np.array(patches)\n",
    "y.shape"
   ]
  },
  {
   "cell_type": "code",
   "execution_count": 20,
   "id": "7c58f116",
   "metadata": {
    "executionInfo": {
     "elapsed": 4,
     "status": "ok",
     "timestamp": 1672678185360,
     "user": {
      "displayName": "Touseef Ur Rehman",
      "userId": "07158742900075865006"
     },
     "user_tz": -300
    },
    "id": "7c58f116"
   },
   "outputs": [],
   "source": [
    "y = y.astype(float)"
   ]
  },
  {
   "cell_type": "markdown",
   "id": "b6fa51f8",
   "metadata": {
    "id": "b6fa51f8"
   },
   "source": [
    "# Making Dataset"
   ]
  },
  {
   "cell_type": "code",
   "execution_count": 21,
   "id": "2c81f531",
   "metadata": {
    "colab": {
     "base_uri": "https://localhost:8080/"
    },
    "executionInfo": {
     "elapsed": 768,
     "status": "ok",
     "timestamp": 1672678186948,
     "user": {
      "displayName": "Touseef Ur Rehman",
      "userId": "07158742900075865006"
     },
     "user_tz": -300
    },
    "id": "2c81f531",
    "outputId": "50b00649-affb-4121-fac0-a2f237ab54b1"
   },
   "outputs": [
    {
     "data": {
      "text/plain": [
       "TensorShape([361, 8, 8, 32])"
      ]
     },
     "execution_count": 21,
     "metadata": {},
     "output_type": "execute_result"
    }
   ],
   "source": [
    "x1 = tf.keras.layers.AveragePooling2D(pool_size=(8, 8),strides=(8, 8), padding='valid',dtype='float64')\n",
    "x1 = x1(y)\n",
    "x1.shape"
   ]
  },
  {
   "cell_type": "code",
   "execution_count": 22,
   "id": "00bb351c",
   "metadata": {
    "executionInfo": {
     "elapsed": 17,
     "status": "ok",
     "timestamp": 1672678186949,
     "user": {
      "displayName": "Touseef Ur Rehman",
      "userId": "07158742900075865006"
     },
     "user_tz": -300
    },
    "id": "00bb351c"
   },
   "outputs": [],
   "source": [
    "x2_1 = y[:,:,:,0:11].mean(axis = 3)\n",
    "x2_2 = y[:,:,:,11:22].mean(axis = 3)\n",
    "x2_3 = y[:,:,:,22:].mean(axis = 3)"
   ]
  },
  {
   "cell_type": "code",
   "execution_count": 23,
   "id": "24e25d9c",
   "metadata": {
    "colab": {
     "base_uri": "https://localhost:8080/"
    },
    "executionInfo": {
     "elapsed": 18,
     "status": "ok",
     "timestamp": 1672678186951,
     "user": {
      "displayName": "Touseef Ur Rehman",
      "userId": "07158742900075865006"
     },
     "user_tz": -300
    },
    "id": "24e25d9c",
    "outputId": "6233eca7-2378-4e62-b1a6-177ec0f77ded"
   },
   "outputs": [
    {
     "data": {
      "text/plain": [
       "(361, 64, 64, 3)"
      ]
     },
     "execution_count": 23,
     "metadata": {},
     "output_type": "execute_result"
    }
   ],
   "source": [
    "x2 = np.concatenate([np.expand_dims(x2_1,3),np.expand_dims(x2_2,3),np.expand_dims(x2_3,3)],axis = 3)\n",
    "x2.shape"
   ]
  },
  {
   "cell_type": "markdown",
   "id": "9f5dbb81",
   "metadata": {
    "id": "9f5dbb81"
   },
   "source": [
    "# PreProcessing for Model"
   ]
  },
  {
   "cell_type": "code",
   "execution_count": 24,
   "id": "3f1d5e0c",
   "metadata": {
    "colab": {
     "base_uri": "https://localhost:8080/"
    },
    "executionInfo": {
     "elapsed": 13,
     "status": "ok",
     "timestamp": 1672678186952,
     "user": {
      "displayName": "Touseef Ur Rehman",
      "userId": "07158742900075865006"
     },
     "user_tz": -300
    },
    "id": "3f1d5e0c",
    "outputId": "8c2cf924-2640-4c15-dee7-8ab7a2081d3d"
   },
   "outputs": [
    {
     "name": "stdout",
     "output_type": "stream",
     "text": [
      "Labels-shape (361, 64, 64, 32)\n",
      "Input_Feature-1 shape (361, 8, 8, 32)\n",
      "Input_Feature-2 shape (361, 64, 64, 3)\n"
     ]
    }
   ],
   "source": [
    "print(\"Labels-shape\",y.shape)\n",
    "print(\"Input_Feature-1 shape\",x1.shape)\n",
    "print(\"Input_Feature-2 shape\",x2.shape)"
   ]
  },
  {
   "cell_type": "markdown",
   "id": "42c5d4f1",
   "metadata": {
    "id": "42c5d4f1"
   },
   "source": [
    "# Reshaping"
   ]
  },
  {
   "cell_type": "code",
   "execution_count": 25,
   "id": "ab0e15a1",
   "metadata": {
    "executionInfo": {
     "elapsed": 10,
     "status": "ok",
     "timestamp": 1672678190166,
     "user": {
      "displayName": "Touseef Ur Rehman",
      "userId": "07158742900075865006"
     },
     "user_tz": -300
    },
    "id": "ab0e15a1"
   },
   "outputs": [],
   "source": [
    "# labels = layers.Flatten(dtype='float64')(y)\n",
    "# print(labels.shape)\n",
    "# feat1 = layers.Flatten(dtype='float64')(x1)\n",
    "# print(feat1.shape)\n",
    "# feat2 = layers.Flatten(dtype='float64')(x2)\n",
    "# print(feat2.shape)"
   ]
  },
  {
   "cell_type": "code",
   "execution_count": 26,
   "id": "c06c2ee9",
   "metadata": {
    "colab": {
     "base_uri": "https://localhost:8080/"
    },
    "executionInfo": {
     "elapsed": 1476,
     "status": "ok",
     "timestamp": 1672678191634,
     "user": {
      "displayName": "Touseef Ur Rehman",
      "userId": "07158742900075865006"
     },
     "user_tz": -300
    },
    "id": "c06c2ee9",
    "outputId": "b1c55117-21d8-42a1-b685-e05a93b6afa4"
   },
   "outputs": [
    {
     "data": {
      "text/plain": [
       "TensorShape([361, 64, 64, 32])"
      ]
     },
     "execution_count": 26,
     "metadata": {},
     "output_type": "execute_result"
    }
   ],
   "source": [
    "X_interploated = tf.image.resize(x1, (64, 64), method='bilinear')\n",
    "X_interploated.shape"
   ]
  },
  {
   "cell_type": "code",
   "execution_count": 27,
   "id": "cc586ecf",
   "metadata": {
    "colab": {
     "base_uri": "https://localhost:8080/"
    },
    "executionInfo": {
     "elapsed": 3259,
     "status": "ok",
     "timestamp": 1672678194890,
     "user": {
      "displayName": "Touseef Ur Rehman",
      "userId": "07158742900075865006"
     },
     "user_tz": -300
    },
    "id": "cc586ecf",
    "outputId": "ec8b78f9-36d0-458c-8371-e6dc2f172ac0"
   },
   "outputs": [
    {
     "data": {
      "text/plain": [
       "TensorShape([361, 64, 64, 35])"
      ]
     },
     "execution_count": 27,
     "metadata": {},
     "output_type": "execute_result"
    }
   ],
   "source": [
    "X = tf.concat([X_interploated, x2], axis=-1)\n",
    "X.shape"
   ]
  },
  {
   "cell_type": "code",
   "execution_count": 28,
   "id": "916573f6",
   "metadata": {
    "executionInfo": {
     "elapsed": 13,
     "status": "ok",
     "timestamp": 1672678194891,
     "user": {
      "displayName": "Touseef Ur Rehman",
      "userId": "07158742900075865006"
     },
     "user_tz": -300
    },
    "id": "916573f6"
   },
   "outputs": [],
   "source": [
    "X = X/255\n",
    "y = y/255"
   ]
  },
  {
   "cell_type": "markdown",
   "id": "655b970c",
   "metadata": {
    "id": "655b970c"
   },
   "source": [
    "# Standardization"
   ]
  },
  {
   "cell_type": "code",
   "execution_count": 29,
   "id": "ae0cd25d",
   "metadata": {
    "id": "ae0cd25d"
   },
   "outputs": [],
   "source": [
    "# labels = labels/255\n",
    "# feat1 = feat1/255\n",
    "# feat2 = feat2/255"
   ]
  },
  {
   "cell_type": "code",
   "execution_count": 30,
   "id": "8277f512",
   "metadata": {
    "id": "8277f512"
   },
   "outputs": [],
   "source": [
    "# feat_all = np.zeros((225,(np.array(feat1.shape[1])+np.array(feat2.shape[1]))))\n",
    "# feat_all.shape"
   ]
  },
  {
   "cell_type": "code",
   "execution_count": null,
   "id": "8ea9e083",
   "metadata": {
    "id": "8ea9e083"
   },
   "outputs": [],
   "source": [
    "# feat_all[:,0:np.array(feat1.shape[1])] = feat1\n",
    "# feat_all[:,np.array(feat1.shape[1]):] = feat2"
   ]
  },
  {
   "cell_type": "code",
   "execution_count": null,
   "id": "00ca3cc8",
   "metadata": {
    "id": "00ca3cc8"
   },
   "outputs": [],
   "source": [
    "# print(feat_all.shape)\n",
    "# print(labels.shape)"
   ]
  },
  {
   "cell_type": "markdown",
   "id": "c812c337",
   "metadata": {
    "id": "c812c337"
   },
   "source": [
    "# Model"
   ]
  },
  {
   "cell_type": "code",
   "execution_count": null,
   "id": "c330e901",
   "metadata": {},
   "outputs": [],
   "source": []
  },
  {
   "cell_type": "code",
   "execution_count": null,
   "id": "dd99c529",
   "metadata": {
    "id": "dd99c529"
   },
   "outputs": [],
   "source": [
    "# model = tf.keras.Sequential(\n",
    "#     [\n",
    "#         layers.Input(shape=(14336,)),\n",
    "#         layers.Dense(1024, activation=\"relu\"),\n",
    "#         layers.Dense(512, activation=\"relu\"),\n",
    "#         layers.Dense(512, activation=\"relu\"),\n",
    "#         layers.Dense(256, activation=\"relu\"),\n",
    "#         layers.Dense(256, activation=\"relu\"),\n",
    "#         layers.Dense(128, activation=\"relu\"),\n",
    "#         layers.Dense(64, activation=\"relu\"),\n",
    "#         layers.Dense(32, activation=\"relu\"),\n",
    "#         layers.Dense(131072,activation='sigmoid'),\n",
    "#     ]\n",
    "# )"
   ]
  },
  {
   "cell_type": "code",
   "execution_count": null,
   "id": "32c88f5f",
   "metadata": {
    "id": "32c88f5f"
   },
   "outputs": [],
   "source": [
    "# model.compile(optimizer = \"Adam\", loss =\"binary_crossentropy\",metrics=['accuracy'])\n",
    "# model.optimizer.lr = 0.001"
   ]
  },
  {
   "cell_type": "code",
   "execution_count": null,
   "id": "0c9833b9",
   "metadata": {
    "id": "0c9833b9"
   },
   "outputs": [],
   "source": [
    "# history = model.fit(feat_all,labels,epochs = 50)"
   ]
  },
  {
   "cell_type": "code",
   "execution_count": null,
   "id": "f3138641",
   "metadata": {
    "id": "f3138641",
    "scrolled": false
   },
   "outputs": [],
   "source": []
  },
  {
   "cell_type": "code",
   "execution_count": null,
   "id": "71b390b0",
   "metadata": {
    "id": "71b390b0"
   },
   "outputs": [],
   "source": [
    "# encoding_dim = 24  # 32 floats -> compression of factor 24.5, assuming the input is 784 floats\n",
    "\n",
    "# # This is our input image\n",
    "# input_img = keras.Input(shape=(14336,))\n",
    "# # \"encoded\" is the encoded representation of the input\n",
    "# encoded = layers.Dense(encoding_dim, activation='relu')(input_img)\n",
    "# # \"decoded\" is the lossy reconstruction of the input\n",
    "# decoded = layers.Dense(14336, activation='sigmoid')(encoded)\n",
    "\n",
    "# # This model maps an input to its reconstruction\n",
    "# autoencoder = keras.Model(input_img, decoded)"
   ]
  },
  {
   "cell_type": "code",
   "execution_count": null,
   "id": "5949fbdf",
   "metadata": {
    "id": "5949fbdf"
   },
   "outputs": [],
   "source": [
    "# encoder = keras.Model(input_img, encoded)"
   ]
  },
  {
   "cell_type": "code",
   "execution_count": null,
   "id": "c97b07ba",
   "metadata": {
    "id": "c97b07ba"
   },
   "outputs": [],
   "source": [
    "# encoded_input = keras.Input(shape=(encoding_dim,))\n",
    "# # Retrieve the last layer of the autoencoder model\n",
    "# decoder_layer = autoencoder.layers[-1]\n",
    "# # Create the decoder model\n",
    "# decoder = keras.Model(encoded_input, decoder_layer(encoded_input))"
   ]
  },
  {
   "cell_type": "code",
   "execution_count": null,
   "id": "856feec2",
   "metadata": {
    "id": "856feec2"
   },
   "outputs": [],
   "source": [
    "# autoencoder.compile(optimizer='adam', loss='binary_crossentropy')"
   ]
  },
  {
   "cell_type": "code",
   "execution_count": null,
   "id": "6586e1ca",
   "metadata": {
    "id": "6586e1ca",
    "scrolled": true
   },
   "outputs": [],
   "source": [
    "# autoencoder.fit(feat_all, feat_all, epochs=100, batch_size=256,)"
   ]
  },
  {
   "cell_type": "code",
   "execution_count": null,
   "id": "57f2b1e1",
   "metadata": {
    "id": "57f2b1e1"
   },
   "outputs": [],
   "source": [
    "# t1 = np.zeros((58, 58, 128))\n",
    "# t1.shape"
   ]
  },
  {
   "cell_type": "code",
   "execution_count": null,
   "id": "e6a87b69",
   "metadata": {
    "id": "e6a87b69"
   },
   "outputs": [],
   "source": [
    "# t2 = np.reshape(t1,(,,-1))"
   ]
  },
  {
   "cell_type": "code",
   "execution_count": 31,
   "id": "_rc7VS-HJjtk",
   "metadata": {
    "colab": {
     "base_uri": "https://localhost:8080/"
    },
    "executionInfo": {
     "elapsed": 11,
     "status": "ok",
     "timestamp": 1672655290497,
     "user": {
      "displayName": "Touseef Ur Rehman",
      "userId": "07158742900075865006"
     },
     "user_tz": -300
    },
    "id": "_rc7VS-HJjtk",
    "outputId": "ee6064b6-68bb-4ca9-c197-d94bab2f2a24"
   },
   "outputs": [
    {
     "name": "stdout",
     "output_type": "stream",
     "text": [
      "(361, 64, 64, 35)\n"
     ]
    },
    {
     "data": {
      "text/plain": [
       "(361, 64, 64, 32)"
      ]
     },
     "execution_count": 31,
     "metadata": {},
     "output_type": "execute_result"
    }
   ],
   "source": [
    "print(X.shape)\n",
    "y.shape"
   ]
  },
  {
   "cell_type": "code",
   "execution_count": null,
   "id": "7NNF5-yjI74Q",
   "metadata": {
    "id": "7NNF5-yjI74Q"
   },
   "outputs": [],
   "source": [
    "X_train, X_test, y_train, y_test = train_test_split(np.array(X), np.array(y), test_size=0.12, random_state=42)"
   ]
  },
  {
   "cell_type": "code",
   "execution_count": null,
   "id": "D2X9p7HSI76f",
   "metadata": {
    "colab": {
     "base_uri": "https://localhost:8080/"
    },
    "executionInfo": {
     "elapsed": 6,
     "status": "ok",
     "timestamp": 1672654497230,
     "user": {
      "displayName": "Touseef Ur Rehman",
      "userId": "07158742900075865006"
     },
     "user_tz": -300
    },
    "id": "D2X9p7HSI76f",
    "outputId": "56552aee-a0b9-42bc-d270-ea4dcc0a62aa"
   },
   "outputs": [
    {
     "name": "stdout",
     "output_type": "stream",
     "text": [
      "(317, 64, 64, 35)\n",
      "(44, 64, 64, 35)\n",
      "(317, 64, 64, 32)\n",
      "(44, 64, 64, 32)\n"
     ]
    }
   ],
   "source": [
    "print(X_train.shape)\n",
    "print(X_test.shape)\n",
    "print(y_train.shape)\n",
    "print(y_test.shape)\n"
   ]
  },
  {
   "cell_type": "code",
   "execution_count": null,
   "id": "3ce78871",
   "metadata": {
    "colab": {
     "base_uri": "https://localhost:8080/"
    },
    "executionInfo": {
     "elapsed": 2,
     "status": "ok",
     "timestamp": 1672654498663,
     "user": {
      "displayName": "Touseef Ur Rehman",
      "userId": "07158742900075865006"
     },
     "user_tz": -300
    },
    "id": "3ce78871",
    "outputId": "740cb364-4706-4690-9285-8a1dcd22310f"
   },
   "outputs": [
    {
     "name": "stdout",
     "output_type": "stream",
     "text": [
      "i 40 j 144\n",
      "i 48 j 100\n",
      "i 60 j 64\n",
      "i 80 j 36\n",
      "i 96 j 25\n",
      "i 120 j 16\n"
     ]
    }
   ],
   "source": [
    "for i in range(2,128):\n",
    "    for j in range(2,200):\n",
    "        if i*i*j==(60*60*64):\n",
    "            print(\"i\",i,\"j\",j)"
   ]
  },
  {
   "cell_type": "code",
   "execution_count": null,
   "id": "befe04ab",
   "metadata": {
    "colab": {
     "base_uri": "https://localhost:8080/"
    },
    "executionInfo": {
     "elapsed": 4,
     "status": "ok",
     "timestamp": 1672654499358,
     "user": {
      "displayName": "Touseef Ur Rehman",
      "userId": "07158742900075865006"
     },
     "user_tz": -300
    },
    "id": "befe04ab",
    "outputId": "0c80ed9f-08d2-4147-f8dd-6d01517631af"
   },
   "outputs": [
    {
     "data": {
      "text/plain": [
       "64"
      ]
     },
     "execution_count": 84,
     "metadata": {},
     "output_type": "execute_result"
    }
   ],
   "source": [
    "96-(33-1)"
   ]
  },
  {
   "cell_type": "code",
   "execution_count": 32,
   "id": "2d275d59",
   "metadata": {
    "id": "2d275d59"
   },
   "outputs": [],
   "source": [
    "model = tf.keras.Sequential(\n",
    "    [\n",
    "        layers.Input((64, 64, 35)),\n",
    "        \n",
    "        layers.Conv2D(filters = 32,kernel_size = (3,3),strides=1,padding=\"Same\",activation=\"LeakyReLU\"),\n",
    "        #shape(batch_size, 62, 62, 32).\n",
    "        \n",
    "        layers.Conv2D(filters = 64,kernel_size = (3,3),strides=1,padding=\"Same\",activation=\"LeakyReLU\"),\n",
    "        #(batch_size, 60, 60, 64).\n",
    "\n",
    "        layers.Conv2D(filters = 128,kernel_size = (3,3),strides=1,padding=\"Same\",activation=\"LeakyReLU\"),\n",
    "        #(batch_size, 56, 56, 128).\n",
    "        \n",
    "        layers.Conv2D(filters = 32,kernel_size = (3,3),strides=1,padding=\"Same\",activation=\"LeakyReLU\"),\n",
    "        #(batch_size, 64, 64, 32).\n",
    "   \n",
    "        \n",
    "#------------------------------------------------------------------------------------------------------        \n",
    "#         layers.Conv2D(filters = 64,kernel_size = (5,5),strides=1,padding=\"valid\",activation=\"relu\"),\n",
    "#         #(batch_size, 66, 66, 64).\n",
    "        \n",
    "#         layers.Conv2D(filters = 32,kernel_size = (3,3),strides=1,padding=\"valid\",activation=\"relu\"),\n",
    "#         #(batch_size, 64, 64, 32).\n",
    "    ]\n",
    ")"
   ]
  },
  {
   "cell_type": "code",
   "execution_count": 33,
   "id": "386639d1",
   "metadata": {
    "id": "386639d1"
   },
   "outputs": [],
   "source": [
    "model.compile(optimizer = \"Adam\", loss =\"binary_crossentropy\",metrics=['accuracy'])"
   ]
  },
  {
   "cell_type": "code",
   "execution_count": 34,
   "id": "t32_Q3ldLYRp",
   "metadata": {
    "id": "t32_Q3ldLYRp"
   },
   "outputs": [],
   "source": [
    "reduce_lr = tf.keras.callbacks.ReduceLROnPlateau(monitor='val_loss', factor=0.2, patience=5, min_lr=0.000001)"
   ]
  },
  {
   "cell_type": "code",
   "execution_count": 35,
   "id": "Fur9gWPhLqYS",
   "metadata": {
    "id": "Fur9gWPhLqYS"
   },
   "outputs": [],
   "source": [
    "early_st = tf.keras.callbacks.EarlyStopping(monitor='loss', patience=10,verbose=1)"
   ]
  },
  {
   "cell_type": "code",
   "execution_count": 36,
   "id": "y5iObOUkHHjC",
   "metadata": {
    "colab": {
     "base_uri": "https://localhost:8080/"
    },
    "executionInfo": {
     "elapsed": 24,
     "status": "ok",
     "timestamp": 1672655302000,
     "user": {
      "displayName": "Touseef Ur Rehman",
      "userId": "07158742900075865006"
     },
     "user_tz": -300
    },
    "id": "y5iObOUkHHjC",
    "outputId": "01e351a5-b3b6-4ce9-fbdf-2ff9baf70629"
   },
   "outputs": [
    {
     "name": "stdout",
     "output_type": "stream",
     "text": [
      "Model: \"sequential\"\n",
      "_________________________________________________________________\n",
      " Layer (type)                Output Shape              Param #   \n",
      "=================================================================\n",
      " conv2d (Conv2D)             (None, 64, 64, 32)        10112     \n",
      "                                                                 \n",
      " conv2d_1 (Conv2D)           (None, 64, 64, 64)        18496     \n",
      "                                                                 \n",
      " conv2d_2 (Conv2D)           (None, 64, 64, 128)       73856     \n",
      "                                                                 \n",
      " conv2d_3 (Conv2D)           (None, 64, 64, 32)        36896     \n",
      "                                                                 \n",
      "=================================================================\n",
      "Total params: 139,360\n",
      "Trainable params: 139,360\n",
      "Non-trainable params: 0\n",
      "_________________________________________________________________\n"
     ]
    }
   ],
   "source": [
    "model.summary()"
   ]
  },
  {
   "cell_type": "code",
   "execution_count": 37,
   "id": "9984a966",
   "metadata": {
    "colab": {
     "base_uri": "https://localhost:8080/"
    },
    "executionInfo": {
     "elapsed": 82945,
     "status": "ok",
     "timestamp": 1672655385593,
     "user": {
      "displayName": "Touseef Ur Rehman",
      "userId": "07158742900075865006"
     },
     "user_tz": -300
    },
    "id": "9984a966",
    "outputId": "a4bbbd49-0b95-4de1-c3fb-d2701fce41c4",
    "scrolled": false
   },
   "outputs": [
    {
     "name": "stdout",
     "output_type": "stream",
     "text": [
      "Epoch 1/80\n",
      "12/12 [==============================] - 14s 1s/step - loss: 0.4440 - accuracy: 0.1138\n",
      "Epoch 2/80\n",
      "12/12 [==============================] - 13s 1s/step - loss: 0.3208 - accuracy: 0.1460\n",
      "Epoch 3/80\n",
      "12/12 [==============================] - 13s 1s/step - loss: 0.3120 - accuracy: 0.2593\n",
      "Epoch 4/80\n",
      "12/12 [==============================] - 12s 1s/step - loss: 0.3100 - accuracy: 0.2655\n",
      "Epoch 5/80\n",
      "12/12 [==============================] - 13s 1s/step - loss: 0.3085 - accuracy: 0.3088\n",
      "Epoch 6/80\n",
      "12/12 [==============================] - 14s 1s/step - loss: 0.3074 - accuracy: 0.3287\n",
      "Epoch 7/80\n",
      "12/12 [==============================] - 14s 1s/step - loss: 0.3064 - accuracy: 0.3515\n",
      "Epoch 8/80\n",
      "12/12 [==============================] - 16s 1s/step - loss: 0.3056 - accuracy: 0.3920\n",
      "Epoch 9/80\n",
      "12/12 [==============================] - 15s 1s/step - loss: 0.3048 - accuracy: 0.4581\n",
      "Epoch 10/80\n",
      "12/12 [==============================] - 15s 1s/step - loss: 0.3042 - accuracy: 0.5114\n",
      "Epoch 11/80\n",
      "12/12 [==============================] - 15s 1s/step - loss: 0.3037 - accuracy: 0.5396\n",
      "Epoch 12/80\n",
      "12/12 [==============================] - 15s 1s/step - loss: 0.3032 - accuracy: 0.5615\n",
      "Epoch 13/80\n",
      "12/12 [==============================] - 15s 1s/step - loss: 0.3028 - accuracy: 0.5827\n",
      "Epoch 14/80\n",
      "12/12 [==============================] - 15s 1s/step - loss: 0.3024 - accuracy: 0.5941\n",
      "Epoch 15/80\n",
      "12/12 [==============================] - 15s 1s/step - loss: 0.3022 - accuracy: 0.6103\n",
      "Epoch 16/80\n",
      "12/12 [==============================] - 16s 1s/step - loss: 0.3021 - accuracy: 0.6112\n",
      "Epoch 17/80\n",
      "12/12 [==============================] - 16s 1s/step - loss: 0.3016 - accuracy: 0.6215\n",
      "Epoch 18/80\n",
      "12/12 [==============================] - 15s 1s/step - loss: 0.3013 - accuracy: 0.6320\n",
      "Epoch 19/80\n",
      "12/12 [==============================] - 16s 1s/step - loss: 0.3011 - accuracy: 0.6435\n",
      "Epoch 20/80\n",
      "12/12 [==============================] - 16s 1s/step - loss: 0.3010 - accuracy: 0.6487\n",
      "Epoch 21/80\n",
      "12/12 [==============================] - 19s 2s/step - loss: 0.3009 - accuracy: 0.6560\n",
      "Epoch 22/80\n",
      "12/12 [==============================] - 17s 1s/step - loss: 0.3008 - accuracy: 0.6661\n",
      "Epoch 23/80\n",
      "12/12 [==============================] - 16s 1s/step - loss: 0.3005 - accuracy: 0.6701\n",
      "Epoch 24/80\n",
      "12/12 [==============================] - 15s 1s/step - loss: 0.3003 - accuracy: 0.6772\n",
      "Epoch 25/80\n",
      "12/12 [==============================] - 16s 1s/step - loss: 0.3001 - accuracy: 0.6826\n",
      "Epoch 26/80\n",
      "12/12 [==============================] - 16s 1s/step - loss: 0.2999 - accuracy: 0.6893\n",
      "Epoch 27/80\n",
      "12/12 [==============================] - 15s 1s/step - loss: 0.2997 - accuracy: 0.6958\n",
      "Epoch 28/80\n",
      "12/12 [==============================] - 15s 1s/step - loss: 0.2997 - accuracy: 0.6978\n",
      "Epoch 29/80\n",
      "12/12 [==============================] - 15s 1s/step - loss: 0.2997 - accuracy: 0.6984\n",
      "Epoch 30/80\n",
      "12/12 [==============================] - 15s 1s/step - loss: 0.2995 - accuracy: 0.7094\n",
      "Epoch 31/80\n",
      "12/12 [==============================] - 15s 1s/step - loss: 0.2994 - accuracy: 0.7119\n",
      "Epoch 32/80\n",
      "12/12 [==============================] - 16s 1s/step - loss: 0.2994 - accuracy: 0.7173\n",
      "Epoch 33/80\n",
      "12/12 [==============================] - 16s 1s/step - loss: 0.2994 - accuracy: 0.7166\n",
      "Epoch 34/80\n",
      "12/12 [==============================] - 16s 1s/step - loss: 0.2991 - accuracy: 0.7246\n",
      "Epoch 35/80\n",
      "12/12 [==============================] - 15s 1s/step - loss: 0.2989 - accuracy: 0.7306\n",
      "Epoch 36/80\n",
      "12/12 [==============================] - 15s 1s/step - loss: 0.2989 - accuracy: 0.7344\n",
      "Epoch 37/80\n",
      "12/12 [==============================] - 15s 1s/step - loss: 0.2991 - accuracy: 0.7364\n",
      "Epoch 38/80\n",
      "12/12 [==============================] - 15s 1s/step - loss: 0.2990 - accuracy: 0.7300\n",
      "Epoch 39/80\n",
      "12/12 [==============================] - 16s 1s/step - loss: 0.2996 - accuracy: 0.7324\n",
      "Epoch 40/80\n",
      "12/12 [==============================] - 15s 1s/step - loss: 0.2993 - accuracy: 0.7253\n",
      "Epoch 41/80\n",
      "12/12 [==============================] - 16s 1s/step - loss: 0.2989 - accuracy: 0.7327\n",
      "Epoch 42/80\n",
      "12/12 [==============================] - 15s 1s/step - loss: 0.2989 - accuracy: 0.7425\n",
      "Epoch 43/80\n",
      "12/12 [==============================] - 16s 1s/step - loss: 0.2988 - accuracy: 0.7471\n",
      "Epoch 44/80\n",
      "12/12 [==============================] - 16s 1s/step - loss: 0.2985 - accuracy: 0.7510\n",
      "Epoch 45/80\n",
      "12/12 [==============================] - 16s 1s/step - loss: 0.2984 - accuracy: 0.7559\n",
      "Epoch 46/80\n",
      "12/12 [==============================] - 16s 1s/step - loss: 0.2983 - accuracy: 0.7559\n",
      "Epoch 47/80\n",
      "12/12 [==============================] - 16s 1s/step - loss: 0.2983 - accuracy: 0.7604\n",
      "Epoch 48/80\n",
      "12/12 [==============================] - 16s 1s/step - loss: 0.2983 - accuracy: 0.7605\n",
      "Epoch 49/80\n",
      "12/12 [==============================] - 16s 1s/step - loss: 0.2985 - accuracy: 0.7616\n",
      "Epoch 50/80\n",
      "12/12 [==============================] - 16s 1s/step - loss: 0.2998 - accuracy: 0.7610\n",
      "Epoch 51/80\n",
      "12/12 [==============================] - 16s 1s/step - loss: 0.2999 - accuracy: 0.7449\n",
      "Epoch 52/80\n",
      "12/12 [==============================] - 16s 1s/step - loss: 0.2992 - accuracy: 0.7471\n",
      "Epoch 53/80\n",
      "12/12 [==============================] - 17s 1s/step - loss: 0.2986 - accuracy: 0.7598\n",
      "Epoch 54/80\n",
      "12/12 [==============================] - 16s 1s/step - loss: 0.2983 - accuracy: 0.7637\n",
      "Epoch 55/80\n",
      "12/12 [==============================] - 16s 1s/step - loss: 0.2981 - accuracy: 0.7672\n",
      "Epoch 56/80\n",
      "12/12 [==============================] - 16s 1s/step - loss: 0.2980 - accuracy: 0.7710\n",
      "Epoch 57/80\n",
      "12/12 [==============================] - 16s 1s/step - loss: 0.2979 - accuracy: 0.7738\n",
      "Epoch 58/80\n",
      "12/12 [==============================] - 16s 1s/step - loss: 0.2979 - accuracy: 0.7770\n",
      "Epoch 59/80\n",
      "12/12 [==============================] - 16s 1s/step - loss: 0.2978 - accuracy: 0.7790\n",
      "Epoch 60/80\n",
      "12/12 [==============================] - 16s 1s/step - loss: 0.2978 - accuracy: 0.7789\n",
      "Epoch 61/80\n",
      "12/12 [==============================] - 16s 1s/step - loss: 0.2977 - accuracy: 0.7802\n",
      "Epoch 62/80\n",
      "12/12 [==============================] - 16s 1s/step - loss: 0.2977 - accuracy: 0.7823\n",
      "Epoch 63/80\n",
      "12/12 [==============================] - 15s 1s/step - loss: 0.2977 - accuracy: 0.7830\n",
      "Epoch 64/80\n",
      "12/12 [==============================] - 16s 1s/step - loss: 0.2979 - accuracy: 0.7835\n",
      "Epoch 65/80\n",
      "12/12 [==============================] - 16s 1s/step - loss: 0.2995 - accuracy: 0.7682\n",
      "Epoch 66/80\n",
      "12/12 [==============================] - 16s 1s/step - loss: 0.2987 - accuracy: 0.7712\n",
      "Epoch 67/80\n",
      "12/12 [==============================] - 16s 1s/step - loss: 0.2992 - accuracy: 0.7588\n",
      "Epoch 68/80\n",
      "12/12 [==============================] - 16s 1s/step - loss: 0.2987 - accuracy: 0.7537\n",
      "Epoch 69/80\n",
      "12/12 [==============================] - 16s 1s/step - loss: 0.2980 - accuracy: 0.7566\n",
      "Epoch 70/80\n",
      "12/12 [==============================] - 16s 1s/step - loss: 0.2977 - accuracy: 0.7796\n",
      "Epoch 71/80\n",
      "12/12 [==============================] - 16s 1s/step - loss: 0.2976 - accuracy: 0.7843\n",
      "Epoch 72/80\n",
      "12/12 [==============================] - 16s 1s/step - loss: 0.2975 - accuracy: 0.7885\n",
      "Epoch 73/80\n",
      "12/12 [==============================] - 16s 1s/step - loss: 0.2975 - accuracy: 0.7891\n",
      "Epoch 74/80\n",
      "12/12 [==============================] - 16s 1s/step - loss: 0.2974 - accuracy: 0.7905\n",
      "Epoch 75/80\n",
      "12/12 [==============================] - 16s 1s/step - loss: 0.2978 - accuracy: 0.7822\n",
      "Epoch 76/80\n",
      "12/12 [==============================] - 16s 1s/step - loss: 0.2988 - accuracy: 0.7362\n",
      "Epoch 77/80\n",
      "12/12 [==============================] - 16s 1s/step - loss: 0.2985 - accuracy: 0.7211\n",
      "Epoch 78/80\n",
      "12/12 [==============================] - 16s 1s/step - loss: 0.2978 - accuracy: 0.7561\n",
      "Epoch 79/80\n",
      "12/12 [==============================] - 16s 1s/step - loss: 0.2975 - accuracy: 0.7856\n",
      "Epoch 80/80\n",
      "12/12 [==============================] - 16s 1s/step - loss: 0.2974 - accuracy: 0.7899\n"
     ]
    }
   ],
   "source": [
    "history = model.fit(X,y,epochs = 80)#,validation_data=(X_test,y_test),callbacks=[reduce_lr,early_st])"
   ]
  },
  {
   "cell_type": "markdown",
   "id": "_WxaoQVg8M7d",
   "metadata": {
    "id": "_WxaoQVg8M7d"
   },
   "source": [
    "# **Training Plots**"
   ]
  },
  {
   "cell_type": "code",
   "execution_count": 39,
   "id": "HxLCyh4dEWo3",
   "metadata": {
    "colab": {
     "base_uri": "https://localhost:8080/",
     "height": 295
    },
    "executionInfo": {
     "elapsed": 638,
     "status": "ok",
     "timestamp": 1672654680168,
     "user": {
      "displayName": "Touseef Ur Rehman",
      "userId": "07158742900075865006"
     },
     "user_tz": -300
    },
    "id": "HxLCyh4dEWo3",
    "outputId": "6130fda2-1918-4df0-e398-a658ff797d04",
    "scrolled": false
   },
   "outputs": [
    {
     "data": {
      "image/png": "[encoded data removed]",
      "text/plain": [
       "<Figure size 640x480 with 1 Axes>"
      ]
     },
     "metadata": {},
     "output_type": "display_data"
    }
   ],
   "source": [
    "plt.plot(history.history['accuracy'], linestyle=\"dashed\")\n",
    "# plt.plot(history.history['val_accuracy'], linestyle=\"dashed\")\n",
    "plt.plot(history.history['accuracy'], \"*\", color=\"blue\")\n",
    "# plt.plot(history.history['val_accuracy'], \"*\", color=\"orange\")\n",
    "plt.title('Model Accuracy')\n",
    "plt.ylabel('Accuracy')\n",
    "plt.xlabel('Epoch')\n",
    "plt.legend(['train', 'val'], loc='upper left')\n",
    "plt.grid()\n",
    "# plt.savefig('Model_AccuracyS2PS')\n",
    "plt.show()"
   ]
  },
  {
   "cell_type": "markdown",
   "id": "MN5fFWG-vJaD",
   "metadata": {
    "id": "MN5fFWG-vJaD"
   },
   "source": [
    "# # **Testing Plots**"
   ]
  },
  {
   "cell_type": "code",
   "execution_count": null,
   "id": "TXehsdtcUzen",
   "metadata": {
    "colab": {
     "base_uri": "https://localhost:8080/",
     "height": 295
    },
    "executionInfo": {
     "elapsed": 630,
     "status": "ok",
     "timestamp": 1672654685119,
     "user": {
      "displayName": "Touseef Ur Rehman",
      "userId": "07158742900075865006"
     },
     "user_tz": -300
    },
    "id": "TXehsdtcUzen",
    "outputId": "1028f6c6-021a-456f-8f8c-5762d507afc5"
   },
   "outputs": [
    {
     "data": {
      "image/png": "[encoded data removed]",
      "text/plain": [
       "<Figure size 432x288 with 1 Axes>"
      ]
     },
     "metadata": {
      "needs_background": "light"
     },
     "output_type": "display_data"
    }
   ],
   "source": [
    "plt.plot(history.history['loss'], linestyle=\"dashed\")\n",
    "# plt.plot(history.history['val_loss'], linestyle=\"dashed\")\n",
    "plt.plot(history.history['loss'],\"*\", color=\"blue\")\n",
    "plt.plot(history.history['val_loss'], \"*\", color=\"orange\")\n",
    "plt.title('Model Loss')\n",
    "plt.ylabel('Loss')\n",
    "plt.xlabel('Epoch')\n",
    "plt.legend(['train', 'val'], loc='upper left')\n",
    "plt.grid()\n",
    "# pp.savefig('Model_lossS2PS')\n",
    "# plt.show()"
   ]
  },
  {
   "cell_type": "code",
   "execution_count": 40,
   "id": "GR5LU_1bNOln",
   "metadata": {
    "id": "GR5LU_1bNOln"
   },
   "outputs": [],
   "source": [
    "model.save((\"./drive/MyDrive/Advane_ANN/fullsetnopad50.h5\"))"
   ]
  },
  {
   "cell_type": "code",
   "execution_count": 42,
   "id": "W2Gkc3skT4NG",
   "metadata": {
    "id": "W2Gkc3skT4NG"
   },
   "outputs": [],
   "source": [
    "model =  keras.models.load_model(\"./drive/MyDrive/Advane_ANN/fullsetnopad50.h5\")"
   ]
  },
  {
   "cell_type": "code",
   "execution_count": 43,
   "id": "mJEjiqmLOBY4",
   "metadata": {
    "colab": {
     "base_uri": "https://localhost:8080/"
    },
    "executionInfo": {
     "elapsed": 11303,
     "status": "ok",
     "timestamp": 1672660525772,
     "user": {
      "displayName": "Touseef Ur Rehman",
      "userId": "07158742900075865006"
     },
     "user_tz": -300
    },
    "id": "mJEjiqmLOBY4",
    "outputId": "d7167693-6ea5-4337-8988-987af7b8679b"
   },
   "outputs": [
    {
     "name": "stdout",
     "output_type": "stream",
     "text": [
      "12/12 [==============================] - 5s 366ms/step\n"
     ]
    }
   ],
   "source": [
    "output = model.predict(X*255)"
   ]
  },
  {
   "cell_type": "code",
   "execution_count": 44,
   "id": "5jkNXiQ3iNRS",
   "metadata": {
    "colab": {
     "base_uri": "https://localhost:8080/"
    },
    "executionInfo": {
     "elapsed": 666,
     "status": "ok",
     "timestamp": 1672660530307,
     "user": {
      "displayName": "Touseef Ur Rehman",
      "userId": "07158742900075865006"
     },
     "user_tz": -300
    },
    "id": "5jkNXiQ3iNRS",
    "outputId": "2f08e31f-454b-4f75-9aae-930d1c93d225"
   },
   "outputs": [
    {
     "data": {
      "text/plain": [
       "(361, 64, 64, 32)"
      ]
     },
     "execution_count": 44,
     "metadata": {},
     "output_type": "execute_result"
    }
   ],
   "source": [
    "output.shape"
   ]
  },
  {
   "cell_type": "code",
   "execution_count": 45,
   "id": "04zq-3jlmeWQ",
   "metadata": {
    "id": "04zq-3jlmeWQ"
   },
   "outputs": [],
   "source": [
    "output = np.array(output)"
   ]
  },
  {
   "cell_type": "code",
   "execution_count": 46,
   "id": "FmVcsxDbjEJy",
   "metadata": {
    "id": "FmVcsxDbjEJy"
   },
   "outputs": [],
   "source": [
    "model_image = reconstruct_image(patches = output, image_size= stacked.shape, block_size = (64, 64),stride = 24)"
   ]
  },
  {
   "cell_type": "code",
   "execution_count": 54,
   "id": "2s2lxmHtNV36",
   "metadata": {
    "colab": {
     "base_uri": "https://localhost:8080/",
     "height": 301
    },
    "executionInfo": {
     "elapsed": 1240,
     "status": "ok",
     "timestamp": 1672660961844,
     "user": {
      "displayName": "Touseef Ur Rehman",
      "userId": "07158742900075865006"
     },
     "user_tz": -300
    },
    "id": "2s2lxmHtNV36",
    "outputId": "49ac43a4-4fc5-469c-add3-dd972c75f959"
   },
   "outputs": [
    {
     "data": {
      "image/png": "[encoded data removed]",
      "text/plain": [
       "<Figure size 1000x500 with 2 Axes>"
      ]
     },
     "metadata": {},
     "output_type": "display_data"
    }
   ],
   "source": [
    "image_no = 6\n",
    "fig, (ax1, ax2) = plt.subplots(1, 2, figsize=(10, 5))\n",
    "ax1.imshow(model_image[:,:,image_no],cmap='gray')\n",
    "ax1.axis('off')\n",
    "ax2.set_title('Orignal Image')\n",
    "ax2.imshow(orignal_image[:,:,image_no],cmap='gray')\n",
    "ax2.axis('off')\n",
    "ax1.set_title('Image from model')\n",
    "plt.show()"
   ]
  },
  {
   "cell_type": "code",
   "execution_count": 8,
   "id": "3bT0_NdvKdkZ",
   "metadata": {
    "executionInfo": {
     "elapsed": 6048,
     "status": "ok",
     "timestamp": 1672669162285,
     "user": {
      "displayName": "Touseef Ur Rehman",
      "userId": "07158742900075865006"
     },
     "user_tz": -300
    },
    "id": "3bT0_NdvKdkZ"
   },
   "outputs": [],
   "source": [
    "# mymodel = keras.models.load_model(\"./drive/MyDrive/Advane_ANN/fullsetfinal50.h5\") "
   ]
  },
  {
   "cell_type": "code",
   "execution_count": 13,
   "id": "hHdgxrvW11qI",
   "metadata": {
    "colab": {
     "base_uri": "https://localhost:8080/"
    },
    "executionInfo": {
     "elapsed": 373,
     "status": "ok",
     "timestamp": 1672669269878,
     "user": {
      "displayName": "Touseef Ur Rehman",
      "userId": "07158742900075865006"
     },
     "user_tz": -300
    },
    "id": "hHdgxrvW11qI",
    "outputId": "4c28d565-3735-40dd-aca6-5bc2d64c674d"
   },
   "outputs": [
    {
     "data": {
      "text/plain": [
       "(10,)"
      ]
     },
     "execution_count": 13,
     "metadata": {},
     "output_type": "execute_result"
    }
   ],
   "source": [
    "# np.array(mymodel.trainable_variables,dtype=object).shape"
   ]
  },
  {
   "cell_type": "code",
   "execution_count": null,
   "id": "7zsd_6ObAj2F",
   "metadata": {
    "id": "7zsd_6ObAj2F"
   },
   "outputs": [],
   "source": [
    "discriminator = keras.Sequential(\n",
    "    [\n",
    "        \n",
    "       layers.Input((64*64*35)),\n",
    "       layers.Dense((64*64*35)),\n",
    "       layers.Reshape((64, 64, 35)),\n",
    "\n",
    "        layers.Conv2D(filters = 32,kernel_size = (3,3),strides=1,padding=\"valid\",activation=\"LeakyReLU\"),\n",
    "        #shape(batch_size, 62, 62, 32).\n",
    "        \n",
    "        layers.Conv2D(filters = 64,kernel_size = (3,3),strides=1,padding=\"valid\",activation=\"LeakyReLU\"),\n",
    "        #(batch_size, 60, 60, 64).\n",
    "\n",
    "        layers.Conv2D(filters = 64,kernel_size = (3,3),strides=1,padding=\"valid\",activation=\"LeakyReLU\"),\n",
    "        #(batch_size, 58, 58, 64).\n",
    "\n",
    "        layers.Conv2D(filters = 128,kernel_size = (3,3),strides=1,padding=\"valid\",activation=\"LeakyReLU\"),\n",
    "        #(batch_size, 56, 56, 128).\n",
    "        \n",
    "        layers.Reshape((112 ,112 ,32)),\n",
    "        \n",
    "        layers.Conv2D(filters = 32,kernel_size = (49,49),strides=1,padding=\"valid\",activation=\"LeakyReLU\"),\n",
    "        #(batch_size, 64, 64, 32).\n",
    "    ],\n",
    "    name=\"discriminator\",\n",
    ")\n",
    "\n",
    "# Create the generator.\n",
    "generator = keras.Sequential(\n",
    "    [\n",
    "        layers.Input((100,)),\n",
    "        layers.Dense(64*64*35),\n",
    "        layers.Reshape((64, 64, 35)),\n",
    "\n",
    "        layers.Conv2D(filters = 32,kernel_size = (3,3),strides=1,padding=\"valid\",activation=\"LeakyReLU\"),\n",
    "        #shape(batch_size, 62, 62, 32).\n",
    "        \n",
    "        layers.Conv2D(filters = 64,kernel_size = (3,3),strides=1,padding=\"valid\",activation=\"LeakyReLU\"),\n",
    "        #(batch_size, 60, 60, 64).\n",
    "\n",
    "        layers.Conv2D(filters = 64,kernel_size = (3,3),strides=1,padding=\"valid\",activation=\"LeakyReLU\"),\n",
    "        #(batch_size, 58, 58, 64).\n",
    "\n",
    "        layers.Conv2D(filters = 128,kernel_size = (3,3),strides=1,padding=\"valid\",activation=\"LeakyReLU\"),\n",
    "        #(batch_size, 56, 56, 128).\n",
    "        \n",
    "        layers.Reshape((112 ,112 ,32)),\n",
    "        \n",
    "        layers.Conv2D(filters = 32,kernel_size = (49,49),strides=1,padding=\"valid\",activation=\"LeakyReLU\"),\n",
    "        #(batch_size, 64, 64, 32).\n",
    "    ],\n",
    "    name=\"generator\",\n",
    ")"
   ]
  },
  {
   "cell_type": "code",
   "execution_count": 138,
   "id": "xJPw6DYfI2mK",
   "metadata": {
    "executionInfo": {
     "elapsed": 1040,
     "status": "ok",
     "timestamp": 1672677455013,
     "user": {
      "displayName": "Touseef Ur Rehman",
      "userId": "07158742900075865006"
     },
     "user_tz": -300
    },
    "id": "xJPw6DYfI2mK"
   },
   "outputs": [],
   "source": [
    "noise_dim = 100\n",
    "# Define the discriminator loss function\n",
    "def discriminator_loss(real_output, synthetic_output):\n",
    "  real_loss = tf.kerasbinary_crossentropy(tf.ones_like(real_output), real_output)\n",
    "  synthetic_loss = tf.kerasbinary_crossentropy(tf.zeros_like(synthetic_output), synthetic_output)\n",
    "  total_loss = real_loss + synthetic_loss\n",
    "  return total_loss\n",
    "\n",
    "# Define the generator loss function\n",
    "def generator_loss(synthetic_output):\n",
    "  return tf.kerasbinary_crossentropy(tf.ones_like(synthetic_output), synthetic_output)\n",
    "\n",
    "# Define the discriminator and generator optimizers\n",
    "discriminator_optimizer = keras.optimizers.Adam(learning_rate=0.001)\n",
    "generator_optimizer = keras.optimizers.Adam(learning_rate=0.001)\n",
    "\n",
    "# Define the training loop\n",
    "@tf.function\n",
    "def train_step(images):\n",
    "  noise = tf.random.normal([BATCH_SIZE, noise_dim])\n",
    "\n",
    "  with tf.GradientTape() as gen_tape, tf.GradientTape() as disc_tape:\n",
    "    synthetic_images = generator(noise, training=True)\n",
    "\n",
    "    real_output = discriminator(images, training=True)\n",
    "    synthetic_output = discriminator(synthetic_images, training=True)\n",
    "\n",
    "    gen_loss = generator_loss(synthetic_output)\n",
    "    disc_loss = discriminator_loss(real_output, synthetic_output)\n",
    "\n",
    "  gradients_of_generator = gen_tape.gradient(gen_loss, generator.trainable_variables)\n",
    "  gradients_of_discriminator = disc_tape.gradient(disc_loss, discriminator.trainable_variables)\n",
    "\n",
    "  generator_optimizer.apply_gradients(zip(gradients_of_generator, generator.trainable_variables))\n",
    "  discriminator_optimizer.apply_gradients(zip(gradients_of_discriminator, discriminator.trainable_variables))\n"
   ]
  },
  {
   "cell_type": "code",
   "execution_count": 56,
   "id": "htLoE-KSOZTV",
   "metadata": {
    "colab": {
     "base_uri": "https://localhost:8080/",
     "height": 501
    },
    "executionInfo": {
     "elapsed": 7,
     "status": "error",
     "timestamp": 1672677456508,
     "user": {
      "displayName": "Touseef Ur Rehman",
      "userId": "07158742900075865006"
     },
     "user_tz": -300
    },
    "id": "htLoE-KSOZTV",
    "outputId": "eabcc61b-ced0-426c-83b2-adc26da564f4"
   },
   "outputs": [],
   "source": [
    "# EPOCHS = 50\n",
    "# BATCH_SIZE = 64\n",
    "\n",
    "# # Train the GAN\n",
    "\n",
    "# for epoch in range(EPOCHS):\n",
    "#   for images in X:\n",
    "#     train_step(images)"
   ]
  },
  {
   "cell_type": "code",
   "execution_count": 60,
   "id": "6C-8yOfIOpgt",
   "metadata": {
    "executionInfo": {
     "elapsed": 7,
     "status": "aborted",
     "timestamp": 1672677350868,
     "user": {
      "displayName": "Touseef Ur Rehman",
      "userId": "07158742900075865006"
     },
     "user_tz": -300
    },
    "id": "6C-8yOfIOpgt"
   },
   "outputs": [],
   "source": [
    "pkl.dump(X, open(r\"C:\\Users\\tause\\Advance_ANN\\Data_Varibales\\X.pkl\",\"wb\"))\n",
    "pkl.dump(y, open(r\"C:\\Users\\tause\\Advance_ANN\\Data_Varibales\\y.pkl\",\"wb\"))    "
   ]
  },
  {
   "cell_type": "code",
   "execution_count": 3,
   "id": "NriNaKTeVtlq",
   "metadata": {
    "id": "NriNaKTeVtlq"
   },
   "outputs": [],
   "source": [
    "X = pkl.load(open(r\"C:\\Users\\tause\\Advance_ANN\\Data_Varibales\\X.pkl\",\"rb\"))\n",
    "y = pkl.load(open(r\"C:\\Users\\tause\\Advance_ANN\\Data_Varibales\\y.pkl\",\"rb\"))"
   ]
  },
  {
   "cell_type": "code",
   "execution_count": null,
   "id": "954dda17",
   "metadata": {},
   "outputs": [],
   "source": []
  }
 ],
 "metadata": {
  "colab": {
   "provenance": []
  },
  "gpuClass": "standard",
  "kernelspec": {
   "display_name": "Python 3 (ipykernel)",
   "language": "python",
   "name": "python3"
  },
  "language_info": {
   "codemirror_mode": {
    "name": "ipython",
    "version": 3
   },
   "file_extension": ".py",
   "mimetype": "text/x-python",
   "name": "python",
   "nbconvert_exporter": "python",
   "pygments_lexer": "ipython3",
   "version": "3.8.10"
  }
 },
 "nbformat": 4,
 "nbformat_minor": 5
}
