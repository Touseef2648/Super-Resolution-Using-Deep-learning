{
 "cells": [
  {
   "cell_type": "markdown",
   "id": "9467ebae",
   "metadata": {
    "id": "9467ebae"
   },
   "source": [
    "# Importing Libraries"
   ]
  },
  {
   "cell_type": "code",
   "execution_count": 4,
   "id": "f0488a2f",
   "metadata": {
    "id": "f0488a2f"
   },
   "outputs": [],
   "source": [
    "import numpy as np\n",
    "import pandas as pd\n",
    "import cv2\n",
    "import os\n",
    "# from patchify import patchify\n",
    "from PIL import Image\n",
    "from matplotlib import pyplot as plt\n",
    "import tifffile\n",
    "import pickle as pkl\n",
    "import tensorflow as tf\n",
    "from tensorflow import keras\n",
    "from tensorflow.keras.layers import Conv2D\n",
    "from tensorflow.keras import layers\n",
    "from sklearn.model_selection import train_test_split\n",
    "# from keras.models import Model\n",
    "# from keras.models import load_model"
   ]
  },
  {
   "cell_type": "markdown",
   "id": "3e9182bc",
   "metadata": {
    "id": "3e9182bc"
   },
   "source": [
    "# Stacking and saving Images"
   ]
  },
  {
   "cell_type": "code",
   "execution_count": 12,
   "id": "c368d7dc",
   "metadata": {
    "id": "c368d7dc"
   },
   "outputs": [],
   "source": [
    "# DIRECTORY = (r\"C:\\Users\\tause\\Advance_ANN\\data\")\n",
    "\n",
    "# CATEGORIES = []\n",
    "# for classes in os.listdir(DIRECTORY):\n",
    "#     CATEGORIES += [classes]\n",
    "\n",
    "# data = np.zeros((512,512,31))\n",
    "# i=0\n",
    "# for category in CATEGORIES:\n",
    "#     path = os.path.join(DIRECTORY, category)\n",
    "#     path = path + '\\\\' + CATEGORIES[i]\n",
    "# #     print(path)\n",
    "#     j=0\n",
    "#     for img in os.listdir(path):\n",
    "#         if(img==(\"Thumbs.db\") or img==((CATEGORIES[i][:-2])+\"RGB.bmp\")):\n",
    "#             continue\n",
    "#         img_path = os.path.join(path, img)\n",
    "#         arr = cv2.imread(img_path,0)\n",
    "#         data[:,:,j] = arr\n",
    "#         j+=1\n",
    "# #     images = [Image.fromarray(data[:, :, i].astype('uint8')) for i in range(data.shape[2])]\n",
    "# #     images[0].save((r\"C:\\Users\\tause\\Advance_ANN\\Stacked\\\\\")+(CATEGORIES[i][:-2]+\"stacked.tiff\"), format='TIFF', save_all=True, append_images=images[1:])\n",
    "#     i+=1\n"
   ]
  },
  {
   "cell_type": "code",
   "execution_count": 13,
   "id": "29f5eb10",
   "metadata": {
    "id": "29f5eb10"
   },
   "outputs": [],
   "source": [
    "# data.shape"
   ]
  },
  {
   "cell_type": "code",
   "execution_count": 14,
   "id": "0dd79cd2",
   "metadata": {
    "id": "0dd79cd2"
   },
   "outputs": [],
   "source": [
    "# plt.imshow(data[:,:,3],cmap='gray')"
   ]
  },
  {
   "cell_type": "markdown",
   "id": "X_bXS-igk5x1",
   "metadata": {
    "id": "X_bXS-igk5x1"
   },
   "source": []
  },
  {
   "cell_type": "markdown",
   "id": "faf1895e",
   "metadata": {
    "id": "faf1895e"
   },
   "source": [
    "# Reading Stacked Images"
   ]
  },
  {
   "cell_type": "code",
   "execution_count": 15,
   "id": "fdf2f300",
   "metadata": {
    "id": "fdf2f300"
   },
   "outputs": [],
   "source": [
    "DIRECTORY = (\"./drive/MyDrive/Advane_ANN/Stacked\")\n",
    "\n",
    "CATEGORIES = []\n",
    "for classes in os.listdir(DIRECTORY):\n",
    "    CATEGORIES += [classes]\n",
    "\n",
    "# print(CATEGORIES)\n",
    "\n",
    "data = []\n",
    "i=0\n",
    "for category in CATEGORIES:\n",
    "    img_path = os.path.join(DIRECTORY, category)\n",
    "    arr = cv2.imread(img_path,0)\n",
    "    data.append(arr)\n",
    "\n",
    "stacked = np.array(data)"
   ]
  },
  {
   "cell_type": "code",
   "execution_count": 16,
   "id": "34d852d4",
   "metadata": {
    "colab": {
     "base_uri": "https://localhost:8080/"
    },
    "id": "34d852d4",
    "outputId": "06bf5121-0d3d-4aa3-9ff6-b2b2dbd5fd72"
   },
   "outputs": [
    {
     "data": {
      "text/plain": [
       "(512, 512, 32)"
      ]
     },
     "execution_count": 16,
     "metadata": {},
     "output_type": "execute_result"
    }
   ],
   "source": [
    "stacked = np.transpose(stacked, (1, 2, 0))\n",
    "stacked.shape"
   ]
  },
  {
   "cell_type": "markdown",
   "id": "4138ce83",
   "metadata": {
    "id": "4138ce83"
   },
   "source": [
    "# Making Patches"
   ]
  },
  {
   "cell_type": "code",
   "execution_count": 17,
   "id": "b0e412ab",
   "metadata": {
    "id": "b0e412ab",
    "scrolled": true
   },
   "outputs": [],
   "source": [
    "def extract_blocks(image, block_size, stride):\n",
    "    blocks = []\n",
    "    image_height, image_width = image.shape[:2]\n",
    "    num_blocks_x = image_width // stride\n",
    "    num_blocks_y = image_height // stride\n",
    "    for y in range(0,image_height-block_size[1]+1,stride):\n",
    "        for x in range(0,image_width-block_size[0]+1,stride):\n",
    "            block=image[y:y+block_size[1],x:x+block_size[0]]\n",
    "            blocks.append(block)\n",
    "    return blocks"
   ]
  },
  {
   "cell_type": "code",
   "execution_count": 18,
   "id": "q8yk7ZQsFV0C",
   "metadata": {
    "id": "q8yk7ZQsFV0C"
   },
   "outputs": [],
   "source": [
    "def reconstruct_image(patches, image_size, block_size, stride):\n",
    "    # Get patch size\n",
    "    patch_size = block_size[0]\n",
    "\n",
    "    # Calculate the number of patches in each direction\n",
    "    n_patches_x = (image_size[1] - patch_size) // stride + 1\n",
    "    n_patches_y = (image_size[0] - patch_size) // stride + 1\n",
    "\n",
    "    # Initialize reconstructed image\n",
    "    reconstructed_image = np.zeros(image_size)\n",
    "\n",
    "    # Place patches in the reconstructed image\n",
    "    patch_idx = 0\n",
    "    for y in range(n_patches_y):\n",
    "        for x in range(n_patches_x):\n",
    "            patch = patches[patch_idx]\n",
    "            reconstructed_image[y*stride:y*stride+patch_size, x*stride:x*stride+patch_size] = patch\n",
    "            patch_idx += 1\n",
    "\n",
    "    return reconstructed_image"
   ]
  },
  {
   "cell_type": "code",
   "execution_count": 19,
   "id": "6c9ebda8",
   "metadata": {
    "colab": {
     "base_uri": "https://localhost:8080/"
    },
    "id": "6c9ebda8",
    "outputId": "75274dda-cd6b-42ae-e264-4561aae86f76"
   },
   "outputs": [
    {
     "data": {
      "text/plain": [
       "361"
      ]
     },
     "execution_count": 19,
     "metadata": {},
     "output_type": "execute_result"
    }
   ],
   "source": [
    "patches = np.array(extract_blocks(stacked,(64,64),24))\n",
    "len(patches)"
   ]
  },
  {
   "cell_type": "code",
   "execution_count": 21,
   "id": "cFT2CUhJHSKD",
   "metadata": {
    "id": "cFT2CUhJHSKD"
   },
   "outputs": [],
   "source": [
    "# plt.imshow(stacked[:,:,2],cmap=\"gray\")\n"
   ]
  },
  {
   "cell_type": "code",
   "execution_count": 22,
   "id": "EERn28-Rkua7",
   "metadata": {
    "id": "EERn28-Rkua7"
   },
   "outputs": [],
   "source": [
    "# for i in range(361):\n",
    "#     plt.subplot(19,19,i+1)\n",
    "#     fig = plt.imshow(patches[i,:,:,2],cmap='gray')\n",
    "#     fig.axes.get_xaxis().set_visible(False)\n",
    "#     fig.axes.get_yaxis().set_visible(False)"
   ]
  },
  {
   "cell_type": "code",
   "execution_count": 23,
   "id": "jlNpnnFYFZX1",
   "metadata": {
    "id": "jlNpnnFYFZX1"
   },
   "outputs": [],
   "source": [
    "orignal_image = reconstruct_image(patches = patches, image_size= stacked.shape, block_size = (64, 64),stride = 24)"
   ]
  },
  {
   "cell_type": "code",
   "execution_count": 24,
   "id": "umXrl682Fz7f",
   "metadata": {
    "colab": {
     "base_uri": "https://localhost:8080/"
    },
    "id": "umXrl682Fz7f",
    "outputId": "ade326ea-410a-4c9e-8a2e-3d27bde53f89"
   },
   "outputs": [
    {
     "data": {
      "text/plain": [
       "(512, 512, 32)"
      ]
     },
     "execution_count": 24,
     "metadata": {},
     "output_type": "execute_result"
    }
   ],
   "source": [
    "orignal_image.shape"
   ]
  },
  {
   "cell_type": "code",
   "execution_count": 25,
   "id": "qtOC5bbcF5KR",
   "metadata": {
    "id": "qtOC5bbcF5KR"
   },
   "outputs": [],
   "source": [
    "# plt.imshow(orignal_image[:,:,2],cmap=\"gray\")"
   ]
  },
  {
   "cell_type": "markdown",
   "id": "aa69dfed",
   "metadata": {
    "id": "aa69dfed"
   },
   "source": [
    "# Labels"
   ]
  },
  {
   "cell_type": "code",
   "execution_count": 26,
   "id": "2aea7a0d",
   "metadata": {
    "colab": {
     "base_uri": "https://localhost:8080/"
    },
    "id": "2aea7a0d",
    "outputId": "3270be70-1ad1-456d-a7bb-e6a6158f163a"
   },
   "outputs": [
    {
     "data": {
      "text/plain": [
       "(361, 64, 64, 32)"
      ]
     },
     "execution_count": 26,
     "metadata": {},
     "output_type": "execute_result"
    }
   ],
   "source": [
    "y = np.array(patches)\n",
    "y.shape"
   ]
  },
  {
   "cell_type": "code",
   "execution_count": 27,
   "id": "7c58f116",
   "metadata": {
    "id": "7c58f116"
   },
   "outputs": [],
   "source": [
    "y = y.astype(float)"
   ]
  },
  {
   "cell_type": "markdown",
   "id": "b6fa51f8",
   "metadata": {
    "id": "b6fa51f8"
   },
   "source": [
    "# Making Dataset"
   ]
  },
  {
   "cell_type": "code",
   "execution_count": 28,
   "id": "2c81f531",
   "metadata": {
    "colab": {
     "base_uri": "https://localhost:8080/"
    },
    "id": "2c81f531",
    "outputId": "146dbbbb-750f-43d3-ac74-c8da8b4dfeec"
   },
   "outputs": [
    {
     "data": {
      "text/plain": [
       "TensorShape([361, 8, 8, 32])"
      ]
     },
     "execution_count": 28,
     "metadata": {},
     "output_type": "execute_result"
    }
   ],
   "source": [
    "x1 = tf.keras.layers.AveragePooling2D(pool_size=(8, 8),strides=(8, 8), padding='valid',dtype='float64')\n",
    "x1 = x1(y)\n",
    "x1.shape"
   ]
  },
  {
   "cell_type": "code",
   "execution_count": 29,
   "id": "00bb351c",
   "metadata": {
    "id": "00bb351c"
   },
   "outputs": [],
   "source": [
    "x2_1 = y[:,:,:,0:11].mean(axis = 3)\n",
    "x2_2 = y[:,:,:,11:22].mean(axis = 3)\n",
    "x2_3 = y[:,:,:,22:].mean(axis = 3)"
   ]
  },
  {
   "cell_type": "code",
   "execution_count": 30,
   "id": "24e25d9c",
   "metadata": {
    "colab": {
     "base_uri": "https://localhost:8080/"
    },
    "id": "24e25d9c",
    "outputId": "f5ce11f2-b257-407b-abbb-423cb296073d"
   },
   "outputs": [
    {
     "data": {
      "text/plain": [
       "(361, 64, 64, 3)"
      ]
     },
     "execution_count": 30,
     "metadata": {},
     "output_type": "execute_result"
    }
   ],
   "source": [
    "x2 = np.concatenate([np.expand_dims(x2_1,3),np.expand_dims(x2_2,3),np.expand_dims(x2_3,3)],axis = 3)\n",
    "x2.shape"
   ]
  },
  {
   "cell_type": "markdown",
   "id": "9f5dbb81",
   "metadata": {
    "id": "9f5dbb81"
   },
   "source": [
    "# PreProcessing for Model"
   ]
  },
  {
   "cell_type": "code",
   "execution_count": 31,
   "id": "3f1d5e0c",
   "metadata": {
    "colab": {
     "base_uri": "https://localhost:8080/"
    },
    "id": "3f1d5e0c",
    "outputId": "5a9e8adb-604e-4aad-fecb-188a14d22099"
   },
   "outputs": [
    {
     "name": "stdout",
     "output_type": "stream",
     "text": [
      "Labels-shape (361, 64, 64, 32)\n",
      "Input_Feature-1 shape (361, 8, 8, 32)\n",
      "Input_Feature-2 shape (361, 64, 64, 3)\n"
     ]
    }
   ],
   "source": [
    "print(\"Labels-shape\",y.shape)\n",
    "print(\"Input_Feature-1 shape\",x1.shape)\n",
    "print(\"Input_Feature-2 shape\",x2.shape)"
   ]
  },
  {
   "cell_type": "markdown",
   "id": "42c5d4f1",
   "metadata": {
    "id": "42c5d4f1"
   },
   "source": [
    "# Reshaping"
   ]
  },
  {
   "cell_type": "code",
   "execution_count": 32,
   "id": "ab0e15a1",
   "metadata": {
    "id": "ab0e15a1"
   },
   "outputs": [],
   "source": [
    "# labels = layers.Flatten(dtype='float64')(y)\n",
    "# print(labels.shape)\n",
    "# feat1 = layers.Flatten(dtype='float64')(x1)\n",
    "# print(feat1.shape)\n",
    "# feat2 = layers.Flatten(dtype='float64')(x2)\n",
    "# print(feat2.shape)"
   ]
  },
  {
   "cell_type": "code",
   "execution_count": 33,
   "id": "c06c2ee9",
   "metadata": {
    "colab": {
     "base_uri": "https://localhost:8080/"
    },
    "id": "c06c2ee9",
    "outputId": "b85ee3d1-c6b7-4f8d-ebf9-451fc61c0a53"
   },
   "outputs": [
    {
     "data": {
      "text/plain": [
       "TensorShape([361, 64, 64, 32])"
      ]
     },
     "execution_count": 33,
     "metadata": {},
     "output_type": "execute_result"
    }
   ],
   "source": [
    "X_interploated = tf.image.resize(x1, (64, 64), method='bilinear')\n",
    "X_interploated.shape"
   ]
  },
  {
   "cell_type": "code",
   "execution_count": 34,
   "id": "cc586ecf",
   "metadata": {
    "colab": {
     "base_uri": "https://localhost:8080/"
    },
    "id": "cc586ecf",
    "outputId": "2551a9f1-bc49-47be-c55c-ceb256da25d9"
   },
   "outputs": [
    {
     "data": {
      "text/plain": [
       "TensorShape([361, 64, 64, 35])"
      ]
     },
     "execution_count": 34,
     "metadata": {},
     "output_type": "execute_result"
    }
   ],
   "source": [
    "X = tf.concat([X_interploated, x2], axis=-1)\n",
    "X.shape"
   ]
  },
  {
   "cell_type": "code",
   "execution_count": 35,
   "id": "916573f6",
   "metadata": {
    "id": "916573f6"
   },
   "outputs": [],
   "source": [
    "X = X/255\n",
    "y = y/255"
   ]
  },
  {
   "cell_type": "markdown",
   "id": "655b970c",
   "metadata": {
    "id": "655b970c"
   },
   "source": [
    "# Standardization"
   ]
  },
  {
   "cell_type": "code",
   "execution_count": null,
   "id": "ae0cd25d",
   "metadata": {
    "id": "ae0cd25d"
   },
   "outputs": [],
   "source": [
    "# labels = labels/255\n",
    "# feat1 = feat1/255\n",
    "# feat2 = feat2/255"
   ]
  },
  {
   "cell_type": "code",
   "execution_count": null,
   "id": "8277f512",
   "metadata": {
    "id": "8277f512"
   },
   "outputs": [],
   "source": [
    "# feat_all = np.zeros((225,(np.array(feat1.shape[1])+np.array(feat2.shape[1]))))\n",
    "# feat_all.shape"
   ]
  },
  {
   "cell_type": "code",
   "execution_count": null,
   "id": "8ea9e083",
   "metadata": {
    "id": "8ea9e083"
   },
   "outputs": [],
   "source": [
    "# feat_all[:,0:np.array(feat1.shape[1])] = feat1\n",
    "# feat_all[:,np.array(feat1.shape[1]):] = feat2"
   ]
  },
  {
   "cell_type": "code",
   "execution_count": null,
   "id": "00ca3cc8",
   "metadata": {
    "id": "00ca3cc8"
   },
   "outputs": [],
   "source": [
    "# print(feat_all.shape)\n",
    "# print(labels.shape)"
   ]
  },
  {
   "cell_type": "markdown",
   "id": "c812c337",
   "metadata": {
    "id": "c812c337"
   },
   "source": [
    "# Model"
   ]
  },
  {
   "cell_type": "code",
   "execution_count": null,
   "id": "dd99c529",
   "metadata": {
    "id": "dd99c529"
   },
   "outputs": [],
   "source": [
    "# model = tf.keras.Sequential(\n",
    "#     [\n",
    "#         layers.Input(shape=(14336,)),\n",
    "#         layers.Dense(1024, activation=\"relu\"),\n",
    "#         layers.Dense(512, activation=\"relu\"),\n",
    "#         layers.Dense(512, activation=\"relu\"),\n",
    "#         layers.Dense(256, activation=\"relu\"),\n",
    "#         layers.Dense(256, activation=\"relu\"),\n",
    "#         layers.Dense(128, activation=\"relu\"),\n",
    "#         layers.Dense(64, activation=\"relu\"),\n",
    "#         layers.Dense(32, activation=\"relu\"),\n",
    "#         layers.Dense(131072,activation='sigmoid'),\n",
    "#     ]\n",
    "# )"
   ]
  },
  {
   "cell_type": "code",
   "execution_count": null,
   "id": "32c88f5f",
   "metadata": {
    "id": "32c88f5f"
   },
   "outputs": [],
   "source": [
    "# model.compile(optimizer = \"Adam\", loss =\"binary_crossentropy\",metrics=['accuracy'])\n",
    "# model.optimizer.lr = 0.001"
   ]
  },
  {
   "cell_type": "code",
   "execution_count": null,
   "id": "0c9833b9",
   "metadata": {
    "id": "0c9833b9"
   },
   "outputs": [],
   "source": [
    "# history = model.fit(feat_all,labels,epochs = 50)"
   ]
  },
  {
   "cell_type": "code",
   "execution_count": null,
   "id": "f3138641",
   "metadata": {
    "id": "f3138641",
    "scrolled": false
   },
   "outputs": [],
   "source": []
  },
  {
   "cell_type": "code",
   "execution_count": null,
   "id": "71b390b0",
   "metadata": {
    "id": "71b390b0"
   },
   "outputs": [],
   "source": [
    "# encoding_dim = 24  # 32 floats -> compression of factor 24.5, assuming the input is 784 floats\n",
    "\n",
    "# # This is our input image\n",
    "# input_img = keras.Input(shape=(14336,))\n",
    "# # \"encoded\" is the encoded representation of the input\n",
    "# encoded = layers.Dense(encoding_dim, activation='relu')(input_img)\n",
    "# # \"decoded\" is the lossy reconstruction of the input\n",
    "# decoded = layers.Dense(14336, activation='sigmoid')(encoded)\n",
    "\n",
    "# # This model maps an input to its reconstruction\n",
    "# autoencoder = keras.Model(input_img, decoded)"
   ]
  },
  {
   "cell_type": "code",
   "execution_count": null,
   "id": "5949fbdf",
   "metadata": {
    "id": "5949fbdf"
   },
   "outputs": [],
   "source": [
    "# encoder = keras.Model(input_img, encoded)"
   ]
  },
  {
   "cell_type": "code",
   "execution_count": null,
   "id": "c97b07ba",
   "metadata": {
    "id": "c97b07ba"
   },
   "outputs": [],
   "source": [
    "# encoded_input = keras.Input(shape=(encoding_dim,))\n",
    "# # Retrieve the last layer of the autoencoder model\n",
    "# decoder_layer = autoencoder.layers[-1]\n",
    "# # Create the decoder model\n",
    "# decoder = keras.Model(encoded_input, decoder_layer(encoded_input))"
   ]
  },
  {
   "cell_type": "code",
   "execution_count": null,
   "id": "856feec2",
   "metadata": {
    "id": "856feec2"
   },
   "outputs": [],
   "source": [
    "# autoencoder.compile(optimizer='adam', loss='binary_crossentropy')"
   ]
  },
  {
   "cell_type": "code",
   "execution_count": null,
   "id": "6586e1ca",
   "metadata": {
    "id": "6586e1ca",
    "scrolled": true
   },
   "outputs": [],
   "source": [
    "# autoencoder.fit(feat_all, feat_all, epochs=100, batch_size=256,)"
   ]
  },
  {
   "cell_type": "code",
   "execution_count": null,
   "id": "57f2b1e1",
   "metadata": {
    "id": "57f2b1e1"
   },
   "outputs": [],
   "source": [
    "# t1 = np.zeros((58, 58, 128))\n",
    "# t1.shape"
   ]
  },
  {
   "cell_type": "code",
   "execution_count": null,
   "id": "e6a87b69",
   "metadata": {
    "id": "e6a87b69"
   },
   "outputs": [],
   "source": [
    "# t2 = np.reshape(t1,(,,-1))"
   ]
  },
  {
   "cell_type": "code",
   "execution_count": null,
   "id": "_rc7VS-HJjtk",
   "metadata": {
    "colab": {
     "base_uri": "https://localhost:8080/"
    },
    "id": "_rc7VS-HJjtk",
    "outputId": "ee6064b6-68bb-4ca9-c197-d94bab2f2a24"
   },
   "outputs": [
    {
     "name": "stdout",
     "output_type": "stream",
     "text": [
      "(361, 64, 64, 35)\n"
     ]
    },
    {
     "data": {
      "text/plain": [
       "(361, 64, 64, 32)"
      ]
     },
     "execution_count": 148,
     "metadata": {},
     "output_type": "execute_result"
    }
   ],
   "source": [
    "print(X.shape)\n",
    "y.shape"
   ]
  },
  {
   "cell_type": "code",
   "execution_count": null,
   "id": "7NNF5-yjI74Q",
   "metadata": {
    "id": "7NNF5-yjI74Q"
   },
   "outputs": [],
   "source": [
    "X_train, X_test, y_train, y_test = train_test_split(np.array(X), np.array(y), test_size=0.12, random_state=42)"
   ]
  },
  {
   "cell_type": "code",
   "execution_count": null,
   "id": "D2X9p7HSI76f",
   "metadata": {
    "colab": {
     "base_uri": "https://localhost:8080/"
    },
    "id": "D2X9p7HSI76f",
    "outputId": "56552aee-a0b9-42bc-d270-ea4dcc0a62aa"
   },
   "outputs": [
    {
     "name": "stdout",
     "output_type": "stream",
     "text": [
      "(317, 64, 64, 35)\n",
      "(44, 64, 64, 35)\n",
      "(317, 64, 64, 32)\n",
      "(44, 64, 64, 32)\n"
     ]
    }
   ],
   "source": [
    "print(X_train.shape)\n",
    "print(X_test.shape)\n",
    "print(y_train.shape)\n",
    "print(y_test.shape)\n"
   ]
  },
  {
   "cell_type": "code",
   "execution_count": null,
   "id": "3ce78871",
   "metadata": {
    "colab": {
     "base_uri": "https://localhost:8080/"
    },
    "id": "3ce78871",
    "outputId": "740cb364-4706-4690-9285-8a1dcd22310f"
   },
   "outputs": [
    {
     "name": "stdout",
     "output_type": "stream",
     "text": [
      "i 40 j 144\n",
      "i 48 j 100\n",
      "i 60 j 64\n",
      "i 80 j 36\n",
      "i 96 j 25\n",
      "i 120 j 16\n"
     ]
    }
   ],
   "source": [
    "for i in range(2,128):\n",
    "    for j in range(2,200):\n",
    "        if i*i*j==(60*60*64):\n",
    "            print(\"i\",i,\"j\",j)"
   ]
  },
  {
   "cell_type": "code",
   "execution_count": null,
   "id": "befe04ab",
   "metadata": {
    "colab": {
     "base_uri": "https://localhost:8080/"
    },
    "id": "befe04ab",
    "outputId": "0c80ed9f-08d2-4147-f8dd-6d01517631af"
   },
   "outputs": [
    {
     "data": {
      "text/plain": [
       "64"
      ]
     },
     "execution_count": 84,
     "metadata": {},
     "output_type": "execute_result"
    }
   ],
   "source": [
    "96-(33-1)"
   ]
  },
  {
   "cell_type": "code",
   "execution_count": null,
   "id": "2d275d59",
   "metadata": {
    "id": "2d275d59"
   },
   "outputs": [],
   "source": [
    "model = tf.keras.Sequential(\n",
    "    [\n",
    "        layers.Input((64, 64, 35)),\n",
    "        \n",
    "        layers.Conv2D(filters = 32,kernel_size = (3,3),strides=1,padding=\"valid\",activation=\"LeakyReLU\"),\n",
    "        #shape(batch_size, 62, 62, 32).\n",
    "        \n",
    "        layers.Conv2D(filters = 64,kernel_size = (3,3),strides=1,padding=\"valid\",activation=\"LeakyReLU\"),\n",
    "        #(batch_size, 60, 60, 64).\n",
    "\n",
    "        layers.Conv2D(filters = 64,kernel_size = (3,3),strides=1,padding=\"valid\",activation=\"LeakyReLU\"),\n",
    "        #(batch_size, 58, 58, 64).\n",
    "\n",
    "        layers.Conv2D(filters = 128,kernel_size = (3,3),strides=1,padding=\"valid\",activation=\"LeakyReLU\"),\n",
    "        #(batch_size, 56, 56, 128).\n",
    "        \n",
    "        layers.Reshape((112 ,112 ,32)),\n",
    "        \n",
    "        layers.Conv2D(filters = 32,kernel_size = (49,49),strides=1,padding=\"valid\",activation=\"LeakyReLU\"),\n",
    "        #(batch_size, 64, 64, 32).\n",
    "   \n",
    "        \n",
    "#------------------------------------------------------------------------------------------------------        \n",
    "#         layers.Conv2D(filters = 64,kernel_size = (5,5),strides=1,padding=\"valid\",activation=\"relu\"),\n",
    "#         #(batch_size, 66, 66, 64).\n",
    "        \n",
    "#         layers.Conv2D(filters = 32,kernel_size = (3,3),strides=1,padding=\"valid\",activation=\"relu\"),\n",
    "#         #(batch_size, 64, 64, 32).\n",
    "    ]\n",
    ")"
   ]
  },
  {
   "cell_type": "code",
   "execution_count": null,
   "id": "386639d1",
   "metadata": {
    "id": "386639d1"
   },
   "outputs": [],
   "source": [
    "model.compile(optimizer = \"Adam\", loss =\"binary_crossentropy\",metrics=['accuracy'])"
   ]
  },
  {
   "cell_type": "code",
   "execution_count": null,
   "id": "t32_Q3ldLYRp",
   "metadata": {
    "id": "t32_Q3ldLYRp"
   },
   "outputs": [],
   "source": [
    "reduce_lr = tf.keras.callbacks.ReduceLROnPlateau(monitor='val_loss', factor=0.2, patience=5, min_lr=0.000001)"
   ]
  },
  {
   "cell_type": "code",
   "execution_count": null,
   "id": "Fur9gWPhLqYS",
   "metadata": {
    "id": "Fur9gWPhLqYS"
   },
   "outputs": [],
   "source": [
    "early_st = tf.keras.callbacks.EarlyStopping(monitor='loss', patience=10,verbose=1)"
   ]
  },
  {
   "cell_type": "code",
   "execution_count": null,
   "id": "y5iObOUkHHjC",
   "metadata": {
    "colab": {
     "base_uri": "https://localhost:8080/"
    },
    "id": "y5iObOUkHHjC",
    "outputId": "01e351a5-b3b6-4ce9-fbdf-2ff9baf70629"
   },
   "outputs": [
    {
     "name": "stdout",
     "output_type": "stream",
     "text": [
      "Model: \"sequential_6\"\n",
      "_________________________________________________________________\n",
      " Layer (type)                Output Shape              Param #   \n",
      "=================================================================\n",
      " conv2d_30 (Conv2D)          (None, 62, 62, 32)        10112     \n",
      "                                                                 \n",
      " conv2d_31 (Conv2D)          (None, 60, 60, 64)        18496     \n",
      "                                                                 \n",
      " conv2d_32 (Conv2D)          (None, 58, 58, 64)        36928     \n",
      "                                                                 \n",
      " conv2d_33 (Conv2D)          (None, 56, 56, 128)       73856     \n",
      "                                                                 \n",
      " reshape_6 (Reshape)         (None, 112, 112, 32)      0         \n",
      "                                                                 \n",
      " conv2d_34 (Conv2D)          (None, 64, 64, 32)        2458656   \n",
      "                                                                 \n",
      "=================================================================\n",
      "Total params: 2,598,048\n",
      "Trainable params: 2,598,048\n",
      "Non-trainable params: 0\n",
      "_________________________________________________________________\n"
     ]
    }
   ],
   "source": [
    "model.summary()"
   ]
  },
  {
   "cell_type": "code",
   "execution_count": null,
   "id": "9984a966",
   "metadata": {
    "colab": {
     "base_uri": "https://localhost:8080/"
    },
    "id": "9984a966",
    "outputId": "a4bbbd49-0b95-4de1-c3fb-d2701fce41c4"
   },
   "outputs": [
    {
     "name": "stdout",
     "output_type": "stream",
     "text": [
      "Epoch 1/80\n",
      "12/12 [==============================] - 2s 83ms/step - loss: 2.4348 - accuracy: 0.0168\n",
      "Epoch 2/80\n",
      "12/12 [==============================] - 1s 82ms/step - loss: 1.4548 - accuracy: 0.0306\n",
      "Epoch 3/80\n",
      "12/12 [==============================] - 1s 80ms/step - loss: 1.0693 - accuracy: 0.0831\n",
      "Epoch 4/80\n",
      "12/12 [==============================] - 1s 84ms/step - loss: 0.5859 - accuracy: 0.0472\n",
      "Epoch 5/80\n",
      "12/12 [==============================] - 1s 82ms/step - loss: 0.3694 - accuracy: 0.1159\n",
      "Epoch 6/80\n",
      "12/12 [==============================] - 1s 82ms/step - loss: 0.3273 - accuracy: 0.1411\n",
      "Epoch 7/80\n",
      "12/12 [==============================] - 1s 81ms/step - loss: 0.3175 - accuracy: 0.1945\n",
      "Epoch 8/80\n",
      "12/12 [==============================] - 1s 82ms/step - loss: 0.3138 - accuracy: 0.2326\n",
      "Epoch 9/80\n",
      "12/12 [==============================] - 1s 90ms/step - loss: 0.3123 - accuracy: 0.2597\n",
      "Epoch 10/80\n",
      "12/12 [==============================] - 1s 82ms/step - loss: 0.3116 - accuracy: 0.2643\n",
      "Epoch 11/80\n",
      "12/12 [==============================] - 1s 81ms/step - loss: 0.3112 - accuracy: 0.2712\n",
      "Epoch 12/80\n",
      "12/12 [==============================] - 1s 84ms/step - loss: 0.3108 - accuracy: 0.2700\n",
      "Epoch 13/80\n",
      "12/12 [==============================] - 1s 82ms/step - loss: 0.3105 - accuracy: 0.2716\n",
      "Epoch 14/80\n",
      "12/12 [==============================] - 1s 81ms/step - loss: 0.3103 - accuracy: 0.2724\n",
      "Epoch 15/80\n",
      "12/12 [==============================] - 1s 82ms/step - loss: 0.3100 - accuracy: 0.2729\n",
      "Epoch 16/80\n",
      "12/12 [==============================] - 1s 81ms/step - loss: 0.3098 - accuracy: 0.2728\n",
      "Epoch 17/80\n",
      "12/12 [==============================] - 1s 82ms/step - loss: 0.3096 - accuracy: 0.2738\n",
      "Epoch 18/80\n",
      "12/12 [==============================] - 1s 83ms/step - loss: 0.3093 - accuracy: 0.2752\n",
      "Epoch 19/80\n",
      "12/12 [==============================] - 1s 83ms/step - loss: 0.3090 - accuracy: 0.2766\n",
      "Epoch 20/80\n",
      "12/12 [==============================] - 1s 83ms/step - loss: 0.3088 - accuracy: 0.2810\n",
      "Epoch 21/80\n",
      "12/12 [==============================] - 1s 83ms/step - loss: 0.3085 - accuracy: 0.2832\n",
      "Epoch 22/80\n",
      "12/12 [==============================] - 1s 83ms/step - loss: 0.3083 - accuracy: 0.2849\n",
      "Epoch 23/80\n",
      "12/12 [==============================] - 1s 83ms/step - loss: 0.3081 - accuracy: 0.2890\n",
      "Epoch 24/80\n",
      "12/12 [==============================] - 1s 83ms/step - loss: 0.3079 - accuracy: 0.2931\n",
      "Epoch 25/80\n",
      "12/12 [==============================] - 1s 83ms/step - loss: 0.3076 - accuracy: 0.2987\n",
      "Epoch 26/80\n",
      "12/12 [==============================] - 1s 84ms/step - loss: 0.3075 - accuracy: 0.3014\n",
      "Epoch 27/80\n",
      "12/12 [==============================] - 1s 83ms/step - loss: 0.3073 - accuracy: 0.3075\n",
      "Epoch 28/80\n",
      "12/12 [==============================] - 1s 82ms/step - loss: 0.3071 - accuracy: 0.3159\n",
      "Epoch 29/80\n",
      "12/12 [==============================] - 1s 82ms/step - loss: 0.3070 - accuracy: 0.3235\n",
      "Epoch 30/80\n",
      "12/12 [==============================] - 1s 83ms/step - loss: 0.3068 - accuracy: 0.3323\n",
      "Epoch 31/80\n",
      "12/12 [==============================] - 1s 82ms/step - loss: 0.3067 - accuracy: 0.3411\n",
      "Epoch 32/80\n",
      "12/12 [==============================] - 1s 83ms/step - loss: 0.3065 - accuracy: 0.3475\n",
      "Epoch 33/80\n",
      "12/12 [==============================] - 1s 82ms/step - loss: 0.3064 - accuracy: 0.3522\n",
      "Epoch 34/80\n",
      "12/12 [==============================] - 1s 82ms/step - loss: 0.3063 - accuracy: 0.3583\n",
      "Epoch 35/80\n",
      "12/12 [==============================] - 1s 82ms/step - loss: 0.3062 - accuracy: 0.3687\n",
      "Epoch 36/80\n",
      "12/12 [==============================] - 1s 82ms/step - loss: 0.3060 - accuracy: 0.3750\n",
      "Epoch 37/80\n",
      "12/12 [==============================] - 1s 82ms/step - loss: 0.3059 - accuracy: 0.3807\n",
      "Epoch 38/80\n",
      "12/12 [==============================] - 1s 82ms/step - loss: 0.3058 - accuracy: 0.3906\n",
      "Epoch 39/80\n",
      "12/12 [==============================] - 1s 81ms/step - loss: 0.3057 - accuracy: 0.3901\n",
      "Epoch 40/80\n",
      "12/12 [==============================] - 1s 82ms/step - loss: 0.3056 - accuracy: 0.3988\n",
      "Epoch 41/80\n",
      "12/12 [==============================] - 1s 81ms/step - loss: 0.3056 - accuracy: 0.4090\n",
      "Epoch 42/80\n",
      "12/12 [==============================] - 1s 83ms/step - loss: 0.3054 - accuracy: 0.4064\n",
      "Epoch 43/80\n",
      "12/12 [==============================] - 1s 81ms/step - loss: 0.3054 - accuracy: 0.4156\n",
      "Epoch 44/80\n",
      "12/12 [==============================] - 1s 81ms/step - loss: 0.3054 - accuracy: 0.4270\n",
      "Epoch 45/80\n",
      "12/12 [==============================] - 1s 81ms/step - loss: 0.3052 - accuracy: 0.4286\n",
      "Epoch 46/80\n",
      "12/12 [==============================] - 1s 82ms/step - loss: 0.3051 - accuracy: 0.4361\n",
      "Epoch 47/80\n",
      "12/12 [==============================] - 1s 81ms/step - loss: 0.3050 - accuracy: 0.4444\n",
      "Epoch 48/80\n",
      "12/12 [==============================] - 1s 81ms/step - loss: 0.3051 - accuracy: 0.4441\n",
      "Epoch 49/80\n",
      "12/12 [==============================] - 1s 82ms/step - loss: 0.3055 - accuracy: 0.4548\n",
      "Epoch 50/80\n",
      "12/12 [==============================] - 1s 80ms/step - loss: 0.3052 - accuracy: 0.4582\n",
      "Epoch 51/80\n",
      "12/12 [==============================] - 1s 81ms/step - loss: 0.3050 - accuracy: 0.4688\n",
      "Epoch 52/80\n",
      "12/12 [==============================] - 1s 82ms/step - loss: 0.3050 - accuracy: 0.4579\n",
      "Epoch 53/80\n",
      "12/12 [==============================] - 1s 82ms/step - loss: 0.3051 - accuracy: 0.4727\n",
      "Epoch 54/80\n",
      "12/12 [==============================] - 1s 83ms/step - loss: 0.3050 - accuracy: 0.4722\n",
      "Epoch 55/80\n",
      "12/12 [==============================] - 1s 81ms/step - loss: 0.3049 - accuracy: 0.4759\n",
      "Epoch 56/80\n",
      "12/12 [==============================] - 1s 82ms/step - loss: 0.3047 - accuracy: 0.4741\n",
      "Epoch 57/80\n",
      "12/12 [==============================] - 1s 81ms/step - loss: 0.3046 - accuracy: 0.4732\n",
      "Epoch 58/80\n",
      "12/12 [==============================] - 1s 81ms/step - loss: 0.3045 - accuracy: 0.4809\n",
      "Epoch 59/80\n",
      "12/12 [==============================] - 1s 82ms/step - loss: 0.3044 - accuracy: 0.4817\n",
      "Epoch 60/80\n",
      "12/12 [==============================] - 1s 82ms/step - loss: 0.3043 - accuracy: 0.4825\n",
      "Epoch 61/80\n",
      "12/12 [==============================] - 1s 83ms/step - loss: 0.3043 - accuracy: 0.4833\n",
      "Epoch 62/80\n",
      "12/12 [==============================] - 1s 81ms/step - loss: 0.3043 - accuracy: 0.4876\n",
      "Epoch 63/80\n",
      "12/12 [==============================] - 1s 81ms/step - loss: 0.3042 - accuracy: 0.4919\n",
      "Epoch 64/80\n",
      "12/12 [==============================] - 1s 81ms/step - loss: 0.3042 - accuracy: 0.4892\n",
      "Epoch 65/80\n",
      "12/12 [==============================] - 1s 81ms/step - loss: 0.3042 - accuracy: 0.4852\n",
      "Epoch 66/80\n",
      "12/12 [==============================] - 1s 82ms/step - loss: 0.3041 - accuracy: 0.4917\n",
      "Epoch 67/80\n",
      "12/12 [==============================] - 1s 82ms/step - loss: 0.3040 - accuracy: 0.4924\n",
      "Epoch 68/80\n",
      "12/12 [==============================] - 1s 82ms/step - loss: 0.3040 - accuracy: 0.4930\n",
      "Epoch 69/80\n",
      "12/12 [==============================] - 1s 81ms/step - loss: 0.3041 - accuracy: 0.4941\n",
      "Epoch 70/80\n",
      "12/12 [==============================] - 1s 82ms/step - loss: 0.3040 - accuracy: 0.4894\n",
      "Epoch 71/80\n",
      "12/12 [==============================] - 1s 82ms/step - loss: 0.3039 - accuracy: 0.4982\n",
      "Epoch 72/80\n",
      "12/12 [==============================] - 1s 83ms/step - loss: 0.3038 - accuracy: 0.4948\n",
      "Epoch 73/80\n",
      "12/12 [==============================] - 1s 82ms/step - loss: 0.3038 - accuracy: 0.4987\n",
      "Epoch 74/80\n",
      "12/12 [==============================] - 1s 82ms/step - loss: 0.3038 - accuracy: 0.4980\n",
      "Epoch 75/80\n",
      "12/12 [==============================] - 1s 81ms/step - loss: 0.3038 - accuracy: 0.4998\n",
      "Epoch 76/80\n",
      "12/12 [==============================] - 1s 82ms/step - loss: 0.3037 - accuracy: 0.5040\n",
      "Epoch 77/80\n",
      "12/12 [==============================] - 1s 81ms/step - loss: 0.3036 - accuracy: 0.5032\n",
      "Epoch 78/80\n",
      "12/12 [==============================] - 1s 81ms/step - loss: 0.3036 - accuracy: 0.5109\n",
      "Epoch 79/80\n",
      "12/12 [==============================] - 1s 83ms/step - loss: 0.3037 - accuracy: 0.5086\n",
      "Epoch 80/80\n",
      "12/12 [==============================] - 1s 81ms/step - loss: 0.3037 - accuracy: 0.5021\n"
     ]
    }
   ],
   "source": [
    "history = model.fit(X,y,epochs = 80)#,validation_data=(X_test,y_test),callbacks=[reduce_lr,early_st])"
   ]
  },
  {
   "cell_type": "markdown",
   "id": "_WxaoQVg8M7d",
   "metadata": {
    "id": "_WxaoQVg8M7d"
   },
   "source": [
    "# **Training Plots**"
   ]
  },
  {
   "cell_type": "code",
   "execution_count": null,
   "id": "HxLCyh4dEWo3",
   "metadata": {
    "colab": {
     "base_uri": "https://localhost:8080/",
     "height": 295
    },
    "id": "HxLCyh4dEWo3",
    "outputId": "6130fda2-1918-4df0-e398-a658ff797d04",
    "scrolled": false
   },
   "outputs": [
    {
     "data": {
      "image/png": "[encoded data removed]",
      "text/plain": [
       "<Figure size 432x288 with 1 Axes>"
      ]
     },
     "metadata": {
      "needs_background": "light"
     },
     "output_type": "display_data"
    }
   ],
   "source": [
    "plt.plot(history.history['accuracy'], linestyle=\"dashed\")\n",
    "plt.plot(history.history['val_accuracy'], linestyle=\"dashed\")\n",
    "plt.plot(history.history['accuracy'], \"*\", color=\"blue\")\n",
    "plt.plot(history.history['val_accuracy'], \"*\", color=\"orange\")\n",
    "plt.title('Model Accuracy')\n",
    "plt.ylabel('Accuracy')\n",
    "plt.xlabel('Epoch')\n",
    "plt.legend(['train', 'val'], loc='upper left')\n",
    "plt.grid()\n",
    "# plt.savefig('Model_AccuracyS2PS')\n",
    "plt.show()"
   ]
  },
  {
   "cell_type": "markdown",
   "id": "MN5fFWG-vJaD",
   "metadata": {
    "id": "MN5fFWG-vJaD"
   },
   "source": [
    "# # **Testing Plots**"
   ]
  },
  {
   "cell_type": "code",
   "execution_count": null,
   "id": "TXehsdtcUzen",
   "metadata": {
    "colab": {
     "base_uri": "https://localhost:8080/",
     "height": 295
    },
    "id": "TXehsdtcUzen",
    "outputId": "1028f6c6-021a-456f-8f8c-5762d507afc5"
   },
   "outputs": [
    {
     "data": {
      "image/png": "[encoded data removed]",
      "text/plain": [
       "<Figure size 432x288 with 1 Axes>"
      ]
     },
     "metadata": {
      "needs_background": "light"
     },
     "output_type": "display_data"
    }
   ],
   "source": [
    "plt.plot(history.history['loss'], linestyle=\"dashed\")\n",
    "plt.plot(history.history['val_loss'], linestyle=\"dashed\")\n",
    "plt.plot(history.history['loss'],\"*\", color=\"blue\")\n",
    "plt.plot(history.history['val_loss'], \"*\", color=\"orange\")\n",
    "plt.title('Model Loss')\n",
    "plt.ylabel('Loss')\n",
    "plt.xlabel('Epoch')\n",
    "plt.legend(['train', 'val'], loc='upper left')\n",
    "plt.grid()\n",
    "# pp.savefig('Model_lossS2PS')\n",
    "# plt.show()"
   ]
  },
  {
   "cell_type": "code",
   "execution_count": null,
   "id": "GR5LU_1bNOln",
   "metadata": {
    "id": "GR5LU_1bNOln"
   },
   "outputs": [],
   "source": [
    "# model.save((\"./drive/MyDrive/Advane_ANN/fullsetfinal50.h5\"))"
   ]
  },
  {
   "cell_type": "code",
   "execution_count": 8,
   "id": "W2Gkc3skT4NG",
   "metadata": {
    "id": "W2Gkc3skT4NG"
   },
   "outputs": [
    {
     "ename": "ValueError",
     "evalue": "Unknown activation function: LeakyReLU",
     "output_type": "error",
     "traceback": [
      "\u001b[1;31m---------------------------------------------------------------------------\u001b[0m",
      "\u001b[1;31mValueError\u001b[0m                                Traceback (most recent call last)",
      "Cell \u001b[1;32mIn[8], line 1\u001b[0m\n\u001b[1;32m----> 1\u001b[0m model \u001b[38;5;241m=\u001b[39m  \u001b[43mkeras\u001b[49m\u001b[38;5;241;43m.\u001b[39;49m\u001b[43mmodels\u001b[49m\u001b[38;5;241;43m.\u001b[39;49m\u001b[43mload_model\u001b[49m\u001b[43m(\u001b[49m\u001b[38;5;124;43mr\u001b[39;49m\u001b[38;5;124;43m\"\u001b[39;49m\u001b[38;5;124;43mC:\u001b[39;49m\u001b[38;5;124;43m\\\u001b[39;49m\u001b[38;5;124;43mUsers\u001b[39;49m\u001b[38;5;124;43m\\\u001b[39;49m\u001b[38;5;124;43mtause\u001b[39;49m\u001b[38;5;124;43m\\\u001b[39;49m\u001b[38;5;124;43mAdvance_ANN\u001b[39;49m\u001b[38;5;124;43m\\\u001b[39;49m\u001b[38;5;124;43mmodels\u001b[39;49m\u001b[38;5;124;43m\\\u001b[39;49m\u001b[38;5;124;43mfinal50.h5\u001b[39;49m\u001b[38;5;124;43m\"\u001b[39;49m\u001b[43m)\u001b[49m\n",
      "File \u001b[1;32mc:\\users\\tause\\envs\\classical\\lib\\site-packages\\tensorflow\\python\\keras\\saving\\save.py:182\u001b[0m, in \u001b[0;36mload_model\u001b[1;34m(filepath, custom_objects, compile, options)\u001b[0m\n\u001b[0;32m    179\u001b[0m \u001b[38;5;28;01mwith\u001b[39;00m generic_utils\u001b[38;5;241m.\u001b[39mCustomObjectScope(custom_objects \u001b[38;5;129;01mor\u001b[39;00m {}):\n\u001b[0;32m    180\u001b[0m   \u001b[38;5;28;01mif\u001b[39;00m (h5py \u001b[38;5;129;01mis\u001b[39;00m \u001b[38;5;129;01mnot\u001b[39;00m \u001b[38;5;28;01mNone\u001b[39;00m \u001b[38;5;129;01mand\u001b[39;00m (\n\u001b[0;32m    181\u001b[0m       \u001b[38;5;28misinstance\u001b[39m(filepath, h5py\u001b[38;5;241m.\u001b[39mFile) \u001b[38;5;129;01mor\u001b[39;00m h5py\u001b[38;5;241m.\u001b[39mis_hdf5(filepath))):\n\u001b[1;32m--> 182\u001b[0m     \u001b[38;5;28;01mreturn\u001b[39;00m \u001b[43mhdf5_format\u001b[49m\u001b[38;5;241;43m.\u001b[39;49m\u001b[43mload_model_from_hdf5\u001b[49m\u001b[43m(\u001b[49m\u001b[43mfilepath\u001b[49m\u001b[43m,\u001b[49m\u001b[43m \u001b[49m\u001b[43mcustom_objects\u001b[49m\u001b[43m,\u001b[49m\u001b[43m \u001b[49m\u001b[38;5;28;43mcompile\u001b[39;49m\u001b[43m)\u001b[49m\n\u001b[0;32m    184\u001b[0m   filepath \u001b[38;5;241m=\u001b[39m path_to_string(filepath)\n\u001b[0;32m    185\u001b[0m   \u001b[38;5;28;01mif\u001b[39;00m \u001b[38;5;28misinstance\u001b[39m(filepath, six\u001b[38;5;241m.\u001b[39mstring_types):\n",
      "File \u001b[1;32mc:\\users\\tause\\envs\\classical\\lib\\site-packages\\tensorflow\\python\\keras\\saving\\hdf5_format.py:177\u001b[0m, in \u001b[0;36mload_model_from_hdf5\u001b[1;34m(filepath, custom_objects, compile)\u001b[0m\n\u001b[0;32m    175\u001b[0m   \u001b[38;5;28;01mraise\u001b[39;00m \u001b[38;5;167;01mValueError\u001b[39;00m(\u001b[38;5;124m'\u001b[39m\u001b[38;5;124mNo model found in config file.\u001b[39m\u001b[38;5;124m'\u001b[39m)\n\u001b[0;32m    176\u001b[0m model_config \u001b[38;5;241m=\u001b[39m json\u001b[38;5;241m.\u001b[39mloads(model_config\u001b[38;5;241m.\u001b[39mdecode(\u001b[38;5;124m'\u001b[39m\u001b[38;5;124mutf-8\u001b[39m\u001b[38;5;124m'\u001b[39m))\n\u001b[1;32m--> 177\u001b[0m model \u001b[38;5;241m=\u001b[39m \u001b[43mmodel_config_lib\u001b[49m\u001b[38;5;241;43m.\u001b[39;49m\u001b[43mmodel_from_config\u001b[49m\u001b[43m(\u001b[49m\u001b[43mmodel_config\u001b[49m\u001b[43m,\u001b[49m\n\u001b[0;32m    178\u001b[0m \u001b[43m                                           \u001b[49m\u001b[43mcustom_objects\u001b[49m\u001b[38;5;241;43m=\u001b[39;49m\u001b[43mcustom_objects\u001b[49m\u001b[43m)\u001b[49m\n\u001b[0;32m    180\u001b[0m \u001b[38;5;66;03m# set weights\u001b[39;00m\n\u001b[0;32m    181\u001b[0m load_weights_from_hdf5_group(f[\u001b[38;5;124m'\u001b[39m\u001b[38;5;124mmodel_weights\u001b[39m\u001b[38;5;124m'\u001b[39m], model\u001b[38;5;241m.\u001b[39mlayers)\n",
      "File \u001b[1;32mc:\\users\\tause\\envs\\classical\\lib\\site-packages\\tensorflow\\python\\keras\\saving\\model_config.py:55\u001b[0m, in \u001b[0;36mmodel_from_config\u001b[1;34m(config, custom_objects)\u001b[0m\n\u001b[0;32m     51\u001b[0m   \u001b[38;5;28;01mraise\u001b[39;00m \u001b[38;5;167;01mTypeError\u001b[39;00m(\u001b[38;5;124m'\u001b[39m\u001b[38;5;124m`model_from_config` expects a dictionary, not a list. \u001b[39m\u001b[38;5;124m'\u001b[39m\n\u001b[0;32m     52\u001b[0m                   \u001b[38;5;124m'\u001b[39m\u001b[38;5;124mMaybe you meant to use \u001b[39m\u001b[38;5;124m'\u001b[39m\n\u001b[0;32m     53\u001b[0m                   \u001b[38;5;124m'\u001b[39m\u001b[38;5;124m`Sequential.from_config(config)`?\u001b[39m\u001b[38;5;124m'\u001b[39m)\n\u001b[0;32m     54\u001b[0m \u001b[38;5;28;01mfrom\u001b[39;00m \u001b[38;5;21;01mtensorflow\u001b[39;00m\u001b[38;5;21;01m.\u001b[39;00m\u001b[38;5;21;01mpython\u001b[39;00m\u001b[38;5;21;01m.\u001b[39;00m\u001b[38;5;21;01mkeras\u001b[39;00m\u001b[38;5;21;01m.\u001b[39;00m\u001b[38;5;21;01mlayers\u001b[39;00m \u001b[38;5;28;01mimport\u001b[39;00m deserialize  \u001b[38;5;66;03m# pylint: disable=g-import-not-at-top\u001b[39;00m\n\u001b[1;32m---> 55\u001b[0m \u001b[38;5;28;01mreturn\u001b[39;00m \u001b[43mdeserialize\u001b[49m\u001b[43m(\u001b[49m\u001b[43mconfig\u001b[49m\u001b[43m,\u001b[49m\u001b[43m \u001b[49m\u001b[43mcustom_objects\u001b[49m\u001b[38;5;241;43m=\u001b[39;49m\u001b[43mcustom_objects\u001b[49m\u001b[43m)\u001b[49m\n",
      "File \u001b[1;32mc:\\users\\tause\\envs\\classical\\lib\\site-packages\\tensorflow\\python\\keras\\layers\\serialization.py:171\u001b[0m, in \u001b[0;36mdeserialize\u001b[1;34m(config, custom_objects)\u001b[0m\n\u001b[0;32m    160\u001b[0m \u001b[38;5;124;03m\"\"\"Instantiates a layer from a config dictionary.\u001b[39;00m\n\u001b[0;32m    161\u001b[0m \n\u001b[0;32m    162\u001b[0m \u001b[38;5;124;03mArguments:\u001b[39;00m\n\u001b[1;32m   (...)\u001b[0m\n\u001b[0;32m    168\u001b[0m \u001b[38;5;124;03m    Layer instance (may be Model, Sequential, Network, Layer...)\u001b[39;00m\n\u001b[0;32m    169\u001b[0m \u001b[38;5;124;03m\"\"\"\u001b[39;00m\n\u001b[0;32m    170\u001b[0m populate_deserializable_objects()\n\u001b[1;32m--> 171\u001b[0m \u001b[38;5;28;01mreturn\u001b[39;00m \u001b[43mgeneric_utils\u001b[49m\u001b[38;5;241;43m.\u001b[39;49m\u001b[43mdeserialize_keras_object\u001b[49m\u001b[43m(\u001b[49m\n\u001b[0;32m    172\u001b[0m \u001b[43m    \u001b[49m\u001b[43mconfig\u001b[49m\u001b[43m,\u001b[49m\n\u001b[0;32m    173\u001b[0m \u001b[43m    \u001b[49m\u001b[43mmodule_objects\u001b[49m\u001b[38;5;241;43m=\u001b[39;49m\u001b[43mLOCAL\u001b[49m\u001b[38;5;241;43m.\u001b[39;49m\u001b[43mALL_OBJECTS\u001b[49m\u001b[43m,\u001b[49m\n\u001b[0;32m    174\u001b[0m \u001b[43m    \u001b[49m\u001b[43mcustom_objects\u001b[49m\u001b[38;5;241;43m=\u001b[39;49m\u001b[43mcustom_objects\u001b[49m\u001b[43m,\u001b[49m\n\u001b[0;32m    175\u001b[0m \u001b[43m    \u001b[49m\u001b[43mprintable_module_name\u001b[49m\u001b[38;5;241;43m=\u001b[39;49m\u001b[38;5;124;43m'\u001b[39;49m\u001b[38;5;124;43mlayer\u001b[39;49m\u001b[38;5;124;43m'\u001b[39;49m\u001b[43m)\u001b[49m\n",
      "File \u001b[1;32mc:\\users\\tause\\envs\\classical\\lib\\site-packages\\tensorflow\\python\\keras\\utils\\generic_utils.py:354\u001b[0m, in \u001b[0;36mdeserialize_keras_object\u001b[1;34m(identifier, module_objects, custom_objects, printable_module_name)\u001b[0m\n\u001b[0;32m    351\u001b[0m custom_objects \u001b[38;5;241m=\u001b[39m custom_objects \u001b[38;5;129;01mor\u001b[39;00m {}\n\u001b[0;32m    353\u001b[0m \u001b[38;5;28;01mif\u001b[39;00m \u001b[38;5;124m'\u001b[39m\u001b[38;5;124mcustom_objects\u001b[39m\u001b[38;5;124m'\u001b[39m \u001b[38;5;129;01min\u001b[39;00m arg_spec\u001b[38;5;241m.\u001b[39margs:\n\u001b[1;32m--> 354\u001b[0m   \u001b[38;5;28;01mreturn\u001b[39;00m \u001b[38;5;28;43mcls\u001b[39;49m\u001b[38;5;241;43m.\u001b[39;49m\u001b[43mfrom_config\u001b[49m\u001b[43m(\u001b[49m\n\u001b[0;32m    355\u001b[0m \u001b[43m      \u001b[49m\u001b[43mcls_config\u001b[49m\u001b[43m,\u001b[49m\n\u001b[0;32m    356\u001b[0m \u001b[43m      \u001b[49m\u001b[43mcustom_objects\u001b[49m\u001b[38;5;241;43m=\u001b[39;49m\u001b[38;5;28;43mdict\u001b[39;49m\u001b[43m(\u001b[49m\n\u001b[0;32m    357\u001b[0m \u001b[43m          \u001b[49m\u001b[38;5;28;43mlist\u001b[39;49m\u001b[43m(\u001b[49m\u001b[43m_GLOBAL_CUSTOM_OBJECTS\u001b[49m\u001b[38;5;241;43m.\u001b[39;49m\u001b[43mitems\u001b[49m\u001b[43m(\u001b[49m\u001b[43m)\u001b[49m\u001b[43m)\u001b[49m\u001b[43m \u001b[49m\u001b[38;5;241;43m+\u001b[39;49m\n\u001b[0;32m    358\u001b[0m \u001b[43m          \u001b[49m\u001b[38;5;28;43mlist\u001b[39;49m\u001b[43m(\u001b[49m\u001b[43mcustom_objects\u001b[49m\u001b[38;5;241;43m.\u001b[39;49m\u001b[43mitems\u001b[49m\u001b[43m(\u001b[49m\u001b[43m)\u001b[49m\u001b[43m)\u001b[49m\u001b[43m)\u001b[49m\u001b[43m)\u001b[49m\n\u001b[0;32m    359\u001b[0m \u001b[38;5;28;01mwith\u001b[39;00m CustomObjectScope(custom_objects):\n\u001b[0;32m    360\u001b[0m   \u001b[38;5;28;01mreturn\u001b[39;00m \u001b[38;5;28mcls\u001b[39m\u001b[38;5;241m.\u001b[39mfrom_config(cls_config)\n",
      "File \u001b[1;32mc:\\users\\tause\\envs\\classical\\lib\\site-packages\\tensorflow\\python\\keras\\engine\\sequential.py:486\u001b[0m, in \u001b[0;36mSequential.from_config\u001b[1;34m(cls, config, custom_objects)\u001b[0m\n\u001b[0;32m    484\u001b[0m model \u001b[38;5;241m=\u001b[39m \u001b[38;5;28mcls\u001b[39m(name\u001b[38;5;241m=\u001b[39mname)\n\u001b[0;32m    485\u001b[0m \u001b[38;5;28;01mfor\u001b[39;00m layer_config \u001b[38;5;129;01min\u001b[39;00m layer_configs:\n\u001b[1;32m--> 486\u001b[0m   layer \u001b[38;5;241m=\u001b[39m \u001b[43mlayer_module\u001b[49m\u001b[38;5;241;43m.\u001b[39;49m\u001b[43mdeserialize\u001b[49m\u001b[43m(\u001b[49m\u001b[43mlayer_config\u001b[49m\u001b[43m,\u001b[49m\n\u001b[0;32m    487\u001b[0m \u001b[43m                                   \u001b[49m\u001b[43mcustom_objects\u001b[49m\u001b[38;5;241;43m=\u001b[39;49m\u001b[43mcustom_objects\u001b[49m\u001b[43m)\u001b[49m\n\u001b[0;32m    488\u001b[0m   model\u001b[38;5;241m.\u001b[39madd(layer)\n\u001b[0;32m    489\u001b[0m \u001b[38;5;28;01mif\u001b[39;00m (\u001b[38;5;129;01mnot\u001b[39;00m model\u001b[38;5;241m.\u001b[39minputs \u001b[38;5;129;01mand\u001b[39;00m build_input_shape \u001b[38;5;129;01mand\u001b[39;00m\n\u001b[0;32m    490\u001b[0m     \u001b[38;5;28misinstance\u001b[39m(build_input_shape, (\u001b[38;5;28mtuple\u001b[39m, \u001b[38;5;28mlist\u001b[39m))):\n",
      "File \u001b[1;32mc:\\users\\tause\\envs\\classical\\lib\\site-packages\\tensorflow\\python\\keras\\layers\\serialization.py:171\u001b[0m, in \u001b[0;36mdeserialize\u001b[1;34m(config, custom_objects)\u001b[0m\n\u001b[0;32m    160\u001b[0m \u001b[38;5;124;03m\"\"\"Instantiates a layer from a config dictionary.\u001b[39;00m\n\u001b[0;32m    161\u001b[0m \n\u001b[0;32m    162\u001b[0m \u001b[38;5;124;03mArguments:\u001b[39;00m\n\u001b[1;32m   (...)\u001b[0m\n\u001b[0;32m    168\u001b[0m \u001b[38;5;124;03m    Layer instance (may be Model, Sequential, Network, Layer...)\u001b[39;00m\n\u001b[0;32m    169\u001b[0m \u001b[38;5;124;03m\"\"\"\u001b[39;00m\n\u001b[0;32m    170\u001b[0m populate_deserializable_objects()\n\u001b[1;32m--> 171\u001b[0m \u001b[38;5;28;01mreturn\u001b[39;00m \u001b[43mgeneric_utils\u001b[49m\u001b[38;5;241;43m.\u001b[39;49m\u001b[43mdeserialize_keras_object\u001b[49m\u001b[43m(\u001b[49m\n\u001b[0;32m    172\u001b[0m \u001b[43m    \u001b[49m\u001b[43mconfig\u001b[49m\u001b[43m,\u001b[49m\n\u001b[0;32m    173\u001b[0m \u001b[43m    \u001b[49m\u001b[43mmodule_objects\u001b[49m\u001b[38;5;241;43m=\u001b[39;49m\u001b[43mLOCAL\u001b[49m\u001b[38;5;241;43m.\u001b[39;49m\u001b[43mALL_OBJECTS\u001b[49m\u001b[43m,\u001b[49m\n\u001b[0;32m    174\u001b[0m \u001b[43m    \u001b[49m\u001b[43mcustom_objects\u001b[49m\u001b[38;5;241;43m=\u001b[39;49m\u001b[43mcustom_objects\u001b[49m\u001b[43m,\u001b[49m\n\u001b[0;32m    175\u001b[0m \u001b[43m    \u001b[49m\u001b[43mprintable_module_name\u001b[49m\u001b[38;5;241;43m=\u001b[39;49m\u001b[38;5;124;43m'\u001b[39;49m\u001b[38;5;124;43mlayer\u001b[39;49m\u001b[38;5;124;43m'\u001b[39;49m\u001b[43m)\u001b[49m\n",
      "File \u001b[1;32mc:\\users\\tause\\envs\\classical\\lib\\site-packages\\tensorflow\\python\\keras\\utils\\generic_utils.py:360\u001b[0m, in \u001b[0;36mdeserialize_keras_object\u001b[1;34m(identifier, module_objects, custom_objects, printable_module_name)\u001b[0m\n\u001b[0;32m    354\u001b[0m     \u001b[38;5;28;01mreturn\u001b[39;00m \u001b[38;5;28mcls\u001b[39m\u001b[38;5;241m.\u001b[39mfrom_config(\n\u001b[0;32m    355\u001b[0m         cls_config,\n\u001b[0;32m    356\u001b[0m         custom_objects\u001b[38;5;241m=\u001b[39m\u001b[38;5;28mdict\u001b[39m(\n\u001b[0;32m    357\u001b[0m             \u001b[38;5;28mlist\u001b[39m(_GLOBAL_CUSTOM_OBJECTS\u001b[38;5;241m.\u001b[39mitems()) \u001b[38;5;241m+\u001b[39m\n\u001b[0;32m    358\u001b[0m             \u001b[38;5;28mlist\u001b[39m(custom_objects\u001b[38;5;241m.\u001b[39mitems())))\n\u001b[0;32m    359\u001b[0m   \u001b[38;5;28;01mwith\u001b[39;00m CustomObjectScope(custom_objects):\n\u001b[1;32m--> 360\u001b[0m     \u001b[38;5;28;01mreturn\u001b[39;00m \u001b[38;5;28;43mcls\u001b[39;49m\u001b[38;5;241;43m.\u001b[39;49m\u001b[43mfrom_config\u001b[49m\u001b[43m(\u001b[49m\u001b[43mcls_config\u001b[49m\u001b[43m)\u001b[49m\n\u001b[0;32m    361\u001b[0m \u001b[38;5;28;01melse\u001b[39;00m:\n\u001b[0;32m    362\u001b[0m   \u001b[38;5;66;03m# Then `cls` may be a function returning a class.\u001b[39;00m\n\u001b[0;32m    363\u001b[0m   \u001b[38;5;66;03m# in this case by convention `config` holds\u001b[39;00m\n\u001b[0;32m    364\u001b[0m   \u001b[38;5;66;03m# the kwargs of the function.\u001b[39;00m\n\u001b[0;32m    365\u001b[0m   custom_objects \u001b[38;5;241m=\u001b[39m custom_objects \u001b[38;5;129;01mor\u001b[39;00m {}\n",
      "File \u001b[1;32mc:\\users\\tause\\envs\\classical\\lib\\site-packages\\tensorflow\\python\\keras\\engine\\base_layer.py:697\u001b[0m, in \u001b[0;36mLayer.from_config\u001b[1;34m(cls, config)\u001b[0m\n\u001b[0;32m    681\u001b[0m \u001b[38;5;129m@classmethod\u001b[39m\n\u001b[0;32m    682\u001b[0m \u001b[38;5;28;01mdef\u001b[39;00m \u001b[38;5;21mfrom_config\u001b[39m(\u001b[38;5;28mcls\u001b[39m, config):\n\u001b[0;32m    683\u001b[0m   \u001b[38;5;124;03m\"\"\"Creates a layer from its config.\u001b[39;00m\n\u001b[0;32m    684\u001b[0m \n\u001b[0;32m    685\u001b[0m \u001b[38;5;124;03m  This method is the reverse of `get_config`,\u001b[39;00m\n\u001b[1;32m   (...)\u001b[0m\n\u001b[0;32m    695\u001b[0m \u001b[38;5;124;03m      A layer instance.\u001b[39;00m\n\u001b[0;32m    696\u001b[0m \u001b[38;5;124;03m  \"\"\"\u001b[39;00m\n\u001b[1;32m--> 697\u001b[0m   \u001b[38;5;28;01mreturn\u001b[39;00m \u001b[38;5;28;43mcls\u001b[39;49m\u001b[43m(\u001b[49m\u001b[38;5;241;43m*\u001b[39;49m\u001b[38;5;241;43m*\u001b[39;49m\u001b[43mconfig\u001b[49m\u001b[43m)\u001b[49m\n",
      "File \u001b[1;32mc:\\users\\tause\\envs\\classical\\lib\\site-packages\\tensorflow\\python\\keras\\layers\\convolutional.py:655\u001b[0m, in \u001b[0;36mConv2D.__init__\u001b[1;34m(self, filters, kernel_size, strides, padding, data_format, dilation_rate, groups, activation, use_bias, kernel_initializer, bias_initializer, kernel_regularizer, bias_regularizer, activity_regularizer, kernel_constraint, bias_constraint, **kwargs)\u001b[0m\n\u001b[0;32m    628\u001b[0m \u001b[38;5;28;01mdef\u001b[39;00m \u001b[38;5;21m__init__\u001b[39m(\u001b[38;5;28mself\u001b[39m,\n\u001b[0;32m    629\u001b[0m              filters,\n\u001b[0;32m    630\u001b[0m              kernel_size,\n\u001b[1;32m   (...)\u001b[0m\n\u001b[0;32m    644\u001b[0m              bias_constraint\u001b[38;5;241m=\u001b[39m\u001b[38;5;28;01mNone\u001b[39;00m,\n\u001b[0;32m    645\u001b[0m              \u001b[38;5;241m*\u001b[39m\u001b[38;5;241m*\u001b[39mkwargs):\n\u001b[0;32m    646\u001b[0m   \u001b[38;5;28msuper\u001b[39m(Conv2D, \u001b[38;5;28mself\u001b[39m)\u001b[38;5;241m.\u001b[39m\u001b[38;5;21m__init__\u001b[39m(\n\u001b[0;32m    647\u001b[0m       rank\u001b[38;5;241m=\u001b[39m\u001b[38;5;241m2\u001b[39m,\n\u001b[0;32m    648\u001b[0m       filters\u001b[38;5;241m=\u001b[39mfilters,\n\u001b[0;32m    649\u001b[0m       kernel_size\u001b[38;5;241m=\u001b[39mkernel_size,\n\u001b[0;32m    650\u001b[0m       strides\u001b[38;5;241m=\u001b[39mstrides,\n\u001b[0;32m    651\u001b[0m       padding\u001b[38;5;241m=\u001b[39mpadding,\n\u001b[0;32m    652\u001b[0m       data_format\u001b[38;5;241m=\u001b[39mdata_format,\n\u001b[0;32m    653\u001b[0m       dilation_rate\u001b[38;5;241m=\u001b[39mdilation_rate,\n\u001b[0;32m    654\u001b[0m       groups\u001b[38;5;241m=\u001b[39mgroups,\n\u001b[1;32m--> 655\u001b[0m       activation\u001b[38;5;241m=\u001b[39m\u001b[43mactivations\u001b[49m\u001b[38;5;241;43m.\u001b[39;49m\u001b[43mget\u001b[49m\u001b[43m(\u001b[49m\u001b[43mactivation\u001b[49m\u001b[43m)\u001b[49m,\n\u001b[0;32m    656\u001b[0m       use_bias\u001b[38;5;241m=\u001b[39muse_bias,\n\u001b[0;32m    657\u001b[0m       kernel_initializer\u001b[38;5;241m=\u001b[39minitializers\u001b[38;5;241m.\u001b[39mget(kernel_initializer),\n\u001b[0;32m    658\u001b[0m       bias_initializer\u001b[38;5;241m=\u001b[39minitializers\u001b[38;5;241m.\u001b[39mget(bias_initializer),\n\u001b[0;32m    659\u001b[0m       kernel_regularizer\u001b[38;5;241m=\u001b[39mregularizers\u001b[38;5;241m.\u001b[39mget(kernel_regularizer),\n\u001b[0;32m    660\u001b[0m       bias_regularizer\u001b[38;5;241m=\u001b[39mregularizers\u001b[38;5;241m.\u001b[39mget(bias_regularizer),\n\u001b[0;32m    661\u001b[0m       activity_regularizer\u001b[38;5;241m=\u001b[39mregularizers\u001b[38;5;241m.\u001b[39mget(activity_regularizer),\n\u001b[0;32m    662\u001b[0m       kernel_constraint\u001b[38;5;241m=\u001b[39mconstraints\u001b[38;5;241m.\u001b[39mget(kernel_constraint),\n\u001b[0;32m    663\u001b[0m       bias_constraint\u001b[38;5;241m=\u001b[39mconstraints\u001b[38;5;241m.\u001b[39mget(bias_constraint),\n\u001b[0;32m    664\u001b[0m       \u001b[38;5;241m*\u001b[39m\u001b[38;5;241m*\u001b[39mkwargs)\n",
      "File \u001b[1;32mc:\\users\\tause\\envs\\classical\\lib\\site-packages\\tensorflow\\python\\util\\dispatch.py:201\u001b[0m, in \u001b[0;36madd_dispatch_support.<locals>.wrapper\u001b[1;34m(*args, **kwargs)\u001b[0m\n\u001b[0;32m    199\u001b[0m \u001b[38;5;124;03m\"\"\"Call target, and fall back on dispatchers if there is a TypeError.\"\"\"\u001b[39;00m\n\u001b[0;32m    200\u001b[0m \u001b[38;5;28;01mtry\u001b[39;00m:\n\u001b[1;32m--> 201\u001b[0m   \u001b[38;5;28;01mreturn\u001b[39;00m \u001b[43mtarget\u001b[49m\u001b[43m(\u001b[49m\u001b[38;5;241;43m*\u001b[39;49m\u001b[43margs\u001b[49m\u001b[43m,\u001b[49m\u001b[43m \u001b[49m\u001b[38;5;241;43m*\u001b[39;49m\u001b[38;5;241;43m*\u001b[39;49m\u001b[43mkwargs\u001b[49m\u001b[43m)\u001b[49m\n\u001b[0;32m    202\u001b[0m \u001b[38;5;28;01mexcept\u001b[39;00m (\u001b[38;5;167;01mTypeError\u001b[39;00m, \u001b[38;5;167;01mValueError\u001b[39;00m):\n\u001b[0;32m    203\u001b[0m   \u001b[38;5;66;03m# Note: convert_to_eager_tensor currently raises a ValueError, not a\u001b[39;00m\n\u001b[0;32m    204\u001b[0m   \u001b[38;5;66;03m# TypeError, when given unexpected types.  So we need to catch both.\u001b[39;00m\n\u001b[0;32m    205\u001b[0m   result \u001b[38;5;241m=\u001b[39m dispatch(wrapper, args, kwargs)\n",
      "File \u001b[1;32mc:\\users\\tause\\envs\\classical\\lib\\site-packages\\tensorflow\\python\\keras\\activations.py:531\u001b[0m, in \u001b[0;36mget\u001b[1;34m(identifier)\u001b[0m\n\u001b[0;32m    529\u001b[0m   \u001b[38;5;28;01mreturn\u001b[39;00m deserialize(identifier)\n\u001b[0;32m    530\u001b[0m \u001b[38;5;28;01melif\u001b[39;00m \u001b[38;5;28misinstance\u001b[39m(identifier, \u001b[38;5;28mdict\u001b[39m):\n\u001b[1;32m--> 531\u001b[0m   \u001b[38;5;28;01mreturn\u001b[39;00m \u001b[43mdeserialize\u001b[49m\u001b[43m(\u001b[49m\u001b[43midentifier\u001b[49m\u001b[43m)\u001b[49m\n\u001b[0;32m    532\u001b[0m \u001b[38;5;28;01melif\u001b[39;00m callable(identifier):\n\u001b[0;32m    533\u001b[0m   \u001b[38;5;28;01mreturn\u001b[39;00m identifier\n",
      "File \u001b[1;32mc:\\users\\tause\\envs\\classical\\lib\\site-packages\\tensorflow\\python\\util\\dispatch.py:201\u001b[0m, in \u001b[0;36madd_dispatch_support.<locals>.wrapper\u001b[1;34m(*args, **kwargs)\u001b[0m\n\u001b[0;32m    199\u001b[0m \u001b[38;5;124;03m\"\"\"Call target, and fall back on dispatchers if there is a TypeError.\"\"\"\u001b[39;00m\n\u001b[0;32m    200\u001b[0m \u001b[38;5;28;01mtry\u001b[39;00m:\n\u001b[1;32m--> 201\u001b[0m   \u001b[38;5;28;01mreturn\u001b[39;00m \u001b[43mtarget\u001b[49m\u001b[43m(\u001b[49m\u001b[38;5;241;43m*\u001b[39;49m\u001b[43margs\u001b[49m\u001b[43m,\u001b[49m\u001b[43m \u001b[49m\u001b[38;5;241;43m*\u001b[39;49m\u001b[38;5;241;43m*\u001b[39;49m\u001b[43mkwargs\u001b[49m\u001b[43m)\u001b[49m\n\u001b[0;32m    202\u001b[0m \u001b[38;5;28;01mexcept\u001b[39;00m (\u001b[38;5;167;01mTypeError\u001b[39;00m, \u001b[38;5;167;01mValueError\u001b[39;00m):\n\u001b[0;32m    203\u001b[0m   \u001b[38;5;66;03m# Note: convert_to_eager_tensor currently raises a ValueError, not a\u001b[39;00m\n\u001b[0;32m    204\u001b[0m   \u001b[38;5;66;03m# TypeError, when given unexpected types.  So we need to catch both.\u001b[39;00m\n\u001b[0;32m    205\u001b[0m   result \u001b[38;5;241m=\u001b[39m dispatch(wrapper, args, kwargs)\n",
      "File \u001b[1;32mc:\\users\\tause\\envs\\classical\\lib\\site-packages\\tensorflow\\python\\keras\\activations.py:488\u001b[0m, in \u001b[0;36mdeserialize\u001b[1;34m(name, custom_objects)\u001b[0m\n\u001b[0;32m    457\u001b[0m \u001b[38;5;129m@keras_export\u001b[39m(\u001b[38;5;124m'\u001b[39m\u001b[38;5;124mkeras.activations.deserialize\u001b[39m\u001b[38;5;124m'\u001b[39m)\n\u001b[0;32m    458\u001b[0m \u001b[38;5;129m@dispatch\u001b[39m\u001b[38;5;241m.\u001b[39madd_dispatch_support\n\u001b[0;32m    459\u001b[0m \u001b[38;5;28;01mdef\u001b[39;00m \u001b[38;5;21mdeserialize\u001b[39m(name, custom_objects\u001b[38;5;241m=\u001b[39m\u001b[38;5;28;01mNone\u001b[39;00m):\n\u001b[0;32m    460\u001b[0m   \u001b[38;5;124;03m\"\"\"Returns activation function given a string identifier.\u001b[39;00m\n\u001b[0;32m    461\u001b[0m \n\u001b[0;32m    462\u001b[0m \u001b[38;5;124;03m  Arguments:\u001b[39;00m\n\u001b[1;32m   (...)\u001b[0m\n\u001b[0;32m    486\u001b[0m \u001b[38;5;124;03m      denote any defined Tensorflow activation function.\u001b[39;00m\n\u001b[0;32m    487\u001b[0m \u001b[38;5;124;03m  \"\"\"\u001b[39;00m\n\u001b[1;32m--> 488\u001b[0m   \u001b[38;5;28;01mreturn\u001b[39;00m \u001b[43mdeserialize_keras_object\u001b[49m\u001b[43m(\u001b[49m\n\u001b[0;32m    489\u001b[0m \u001b[43m      \u001b[49m\u001b[43mname\u001b[49m\u001b[43m,\u001b[49m\n\u001b[0;32m    490\u001b[0m \u001b[43m      \u001b[49m\u001b[43mmodule_objects\u001b[49m\u001b[38;5;241;43m=\u001b[39;49m\u001b[38;5;28;43mglobals\u001b[39;49m\u001b[43m(\u001b[49m\u001b[43m)\u001b[49m\u001b[43m,\u001b[49m\n\u001b[0;32m    491\u001b[0m \u001b[43m      \u001b[49m\u001b[43mcustom_objects\u001b[49m\u001b[38;5;241;43m=\u001b[39;49m\u001b[43mcustom_objects\u001b[49m\u001b[43m,\u001b[49m\n\u001b[0;32m    492\u001b[0m \u001b[43m      \u001b[49m\u001b[43mprintable_module_name\u001b[49m\u001b[38;5;241;43m=\u001b[39;49m\u001b[38;5;124;43m'\u001b[39;49m\u001b[38;5;124;43mactivation function\u001b[39;49m\u001b[38;5;124;43m'\u001b[39;49m\u001b[43m)\u001b[49m\n",
      "File \u001b[1;32mc:\\users\\tause\\envs\\classical\\lib\\site-packages\\tensorflow\\python\\keras\\utils\\generic_utils.py:346\u001b[0m, in \u001b[0;36mdeserialize_keras_object\u001b[1;34m(identifier, module_objects, custom_objects, printable_module_name)\u001b[0m\n\u001b[0;32m    343\u001b[0m \u001b[38;5;28;01mif\u001b[39;00m \u001b[38;5;28misinstance\u001b[39m(identifier, \u001b[38;5;28mdict\u001b[39m):\n\u001b[0;32m    344\u001b[0m   \u001b[38;5;66;03m# In this case we are dealing with a Keras config dictionary.\u001b[39;00m\n\u001b[0;32m    345\u001b[0m   config \u001b[38;5;241m=\u001b[39m identifier\n\u001b[1;32m--> 346\u001b[0m   (\u001b[38;5;28mcls\u001b[39m, cls_config) \u001b[38;5;241m=\u001b[39m \u001b[43mclass_and_config_for_serialized_keras_object\u001b[49m\u001b[43m(\u001b[49m\n\u001b[0;32m    347\u001b[0m \u001b[43m      \u001b[49m\u001b[43mconfig\u001b[49m\u001b[43m,\u001b[49m\u001b[43m \u001b[49m\u001b[43mmodule_objects\u001b[49m\u001b[43m,\u001b[49m\u001b[43m \u001b[49m\u001b[43mcustom_objects\u001b[49m\u001b[43m,\u001b[49m\u001b[43m \u001b[49m\u001b[43mprintable_module_name\u001b[49m\u001b[43m)\u001b[49m\n\u001b[0;32m    349\u001b[0m   \u001b[38;5;28;01mif\u001b[39;00m \u001b[38;5;28mhasattr\u001b[39m(\u001b[38;5;28mcls\u001b[39m, \u001b[38;5;124m'\u001b[39m\u001b[38;5;124mfrom_config\u001b[39m\u001b[38;5;124m'\u001b[39m):\n\u001b[0;32m    350\u001b[0m     arg_spec \u001b[38;5;241m=\u001b[39m tf_inspect\u001b[38;5;241m.\u001b[39mgetfullargspec(\u001b[38;5;28mcls\u001b[39m\u001b[38;5;241m.\u001b[39mfrom_config)\n",
      "File \u001b[1;32mc:\\users\\tause\\envs\\classical\\lib\\site-packages\\tensorflow\\python\\keras\\utils\\generic_utils.py:296\u001b[0m, in \u001b[0;36mclass_and_config_for_serialized_keras_object\u001b[1;34m(config, module_objects, custom_objects, printable_module_name)\u001b[0m\n\u001b[0;32m    294\u001b[0m \u001b[38;5;28mcls\u001b[39m \u001b[38;5;241m=\u001b[39m get_registered_object(class_name, custom_objects, module_objects)\n\u001b[0;32m    295\u001b[0m \u001b[38;5;28;01mif\u001b[39;00m \u001b[38;5;28mcls\u001b[39m \u001b[38;5;129;01mis\u001b[39;00m \u001b[38;5;28;01mNone\u001b[39;00m:\n\u001b[1;32m--> 296\u001b[0m   \u001b[38;5;28;01mraise\u001b[39;00m \u001b[38;5;167;01mValueError\u001b[39;00m(\u001b[38;5;124m'\u001b[39m\u001b[38;5;124mUnknown \u001b[39m\u001b[38;5;124m'\u001b[39m \u001b[38;5;241m+\u001b[39m printable_module_name \u001b[38;5;241m+\u001b[39m \u001b[38;5;124m'\u001b[39m\u001b[38;5;124m: \u001b[39m\u001b[38;5;124m'\u001b[39m \u001b[38;5;241m+\u001b[39m class_name)\n\u001b[0;32m    298\u001b[0m cls_config \u001b[38;5;241m=\u001b[39m config[\u001b[38;5;124m'\u001b[39m\u001b[38;5;124mconfig\u001b[39m\u001b[38;5;124m'\u001b[39m]\n\u001b[0;32m    299\u001b[0m \u001b[38;5;66;03m# Check if `cls_config` is a list. If it is a list, return the class and the\u001b[39;00m\n\u001b[0;32m    300\u001b[0m \u001b[38;5;66;03m# associated class configs for recursively deserialization. This case will\u001b[39;00m\n\u001b[0;32m    301\u001b[0m \u001b[38;5;66;03m# happen on the old version of sequential model (e.g. `keras_version` ==\u001b[39;00m\n\u001b[0;32m    302\u001b[0m \u001b[38;5;66;03m# \"2.0.6\"), which is serialized in a different structure, for example\u001b[39;00m\n\u001b[0;32m    303\u001b[0m \u001b[38;5;66;03m# \"{'class_name': 'Sequential',\u001b[39;00m\n\u001b[0;32m    304\u001b[0m \u001b[38;5;66;03m#   'config': [{'class_name': 'Embedding', 'config': ...}, {}, ...]}\".\u001b[39;00m\n",
      "\u001b[1;31mValueError\u001b[0m: Unknown activation function: LeakyReLU"
     ]
    }
   ],
   "source": [
    "model =  keras.models.load_model(r\"C:\\Users\\tause\\Advance_ANN\\models\\final50.h5\")"
   ]
  },
  {
   "cell_type": "code",
   "execution_count": 37,
   "id": "mJEjiqmLOBY4",
   "metadata": {
    "colab": {
     "base_uri": "https://localhost:8080/"
    },
    "id": "mJEjiqmLOBY4",
    "outputId": "d7167693-6ea5-4337-8988-987af7b8679b"
   },
   "outputs": [
    {
     "name": "stdout",
     "output_type": "stream",
     "text": [
      "12/12 [==============================] - 10s 64ms/step\n"
     ]
    }
   ],
   "source": [
    "output = model.predict(X*255)"
   ]
  },
  {
   "cell_type": "code",
   "execution_count": 38,
   "id": "5jkNXiQ3iNRS",
   "metadata": {
    "colab": {
     "base_uri": "https://localhost:8080/"
    },
    "id": "5jkNXiQ3iNRS",
    "outputId": "2f08e31f-454b-4f75-9aae-930d1c93d225"
   },
   "outputs": [
    {
     "data": {
      "text/plain": [
       "(361, 64, 64, 32)"
      ]
     },
     "execution_count": 38,
     "metadata": {},
     "output_type": "execute_result"
    }
   ],
   "source": [
    "output.shape"
   ]
  },
  {
   "cell_type": "code",
   "execution_count": 39,
   "id": "04zq-3jlmeWQ",
   "metadata": {
    "id": "04zq-3jlmeWQ"
   },
   "outputs": [],
   "source": [
    "output = np.array(output)"
   ]
  },
  {
   "cell_type": "code",
   "execution_count": 40,
   "id": "FmVcsxDbjEJy",
   "metadata": {
    "id": "FmVcsxDbjEJy"
   },
   "outputs": [],
   "source": [
    "model_image = reconstruct_image(patches = output, image_size= stacked.shape, block_size = (64, 64),stride = 24)"
   ]
  },
  {
   "cell_type": "code",
   "execution_count": 74,
   "id": "2s2lxmHtNV36",
   "metadata": {
    "colab": {
     "base_uri": "https://localhost:8080/",
     "height": 301
    },
    "id": "2s2lxmHtNV36",
    "outputId": "49ac43a4-4fc5-469c-add3-dd972c75f959"
   },
   "outputs": [
    {
     "data": {
      "image/png": "[encoded data removed]",
      "text/plain": [
       "<Figure size 720x360 with 2 Axes>"
      ]
     },
     "metadata": {
      "needs_background": "light"
     },
     "output_type": "display_data"
    }
   ],
   "source": [
    "image_no = 31\n",
    "fig, (ax1, ax2) = plt.subplots(1, 2, figsize=(10, 5))\n",
    "ax1.imshow(model_image[:,:,image_no],cmap='gray')\n",
    "ax1.axis('off')\n",
    "ax2.set_title('Orignal Image')\n",
    "ax2.imshow(orignal_image[:,:,image_no],cmap='gray')\n",
    "ax2.axis('off')\n",
    "ax1.set_title('Image from model')\n",
    "plt.show()"
   ]
  },
  {
   "cell_type": "code",
   "execution_count": null,
   "id": "3bT0_NdvKdkZ",
   "metadata": {
    "id": "3bT0_NdvKdkZ"
   },
   "outputs": [],
   "source": []
  }
 ],
 "metadata": {
  "accelerator": "GPU",
  "colab": {
   "provenance": []
  },
  "gpuClass": "standard",
  "kernelspec": {
   "display_name": "Python 3 (ipykernel)",
   "language": "python",
   "name": "python3"
  },
  "language_info": {
   "codemirror_mode": {
    "name": "ipython",
    "version": 3
   },
   "file_extension": ".py",
   "mimetype": "text/x-python",
   "name": "python",
   "nbconvert_exporter": "python",
   "pygments_lexer": "ipython3",
   "version": "3.8.10"
  }
 },
 "nbformat": 4,
 "nbformat_minor": 5
}
